{
  "nbformat": 4,
  "nbformat_minor": 0,
  "metadata": {
    "colab": {
      "provenance": [],
      "toc_visible": true,
      "include_colab_link": true
    },
    "kernelspec": {
      "name": "python3",
      "display_name": "Python 3"
    },
    "language_info": {
      "name": "python"
    }
  },
  "cells": [
    {
      "cell_type": "markdown",
      "metadata": {
        "id": "view-in-github",
        "colab_type": "text"
      },
      "source": [
        "<a href=\"https://colab.research.google.com/github/paulcesarbaruk/Analsying-the-Salary-of-Data-Scientists/blob/main/Pr%C3%A1tica_Agrupamento_por_K_Means.ipynb\" target=\"_parent\"><img src=\"https://colab.research.google.com/assets/colab-badge.svg\" alt=\"Open In Colab\"/></a>"
      ]
    },
    {
      "cell_type": "markdown",
      "source": [
        "<img src=\"https://img.freepik.com/fotos-gratis/universitaria-e-universitaria-estudando-juntos_23-2149038398.jpg?w=1060&t=st=1703862203~exp=1703862803~hmac=082ff24396de703e8a74df6e7e352bce55c4524452f7d2ad1ada4979093f2393\" alt=\"Alternative text\" />"
      ],
      "metadata": {
        "id": "kHnOi5Ocl_9i"
      }
    },
    {
      "cell_type": "markdown",
      "source": [
        "# **Agrupamento por K-Means**"
      ],
      "metadata": {
        "id": "xkcyWGE7A4Ra"
      }
    },
    {
      "cell_type": "markdown",
      "source": [
        "## Objetivo\n",
        "\n",
        "Nesta prática, vamos entender sobre agrupamento (*clustering*) por [K-means](https://en.wikipedia.org/wiki/K-means_clustering), um método de Unsupervised Learning (Aprendizado Não Supervisionado).\n",
        "\n",
        "Para a atividade, vamos usar a base de dados [alunos_engcomp.csv.](https://drive.google.com/file/d/1NBapXnTa-TEJIYyH0XsUVdimpxftD4Ap/view?usp=share_link).\n",
        "\n",
        "A base traz dados sobre alunos de um curso de Engenharia da Computação de uma instituição e possui variáveis como:\n",
        "\n",
        "* Sexo\n",
        "* Coeficiente\n",
        "* Nota do ENEM\n",
        "* Período\n",
        "* Escola de origem (se pública ou particular).\n",
        "\n",
        "O objetivo desta tarefa é entender e discutir o padrão refletido pelos agrupamentos encontrados entre os alunos."
      ],
      "metadata": {
        "id": "xLNVitHMKcq2"
      }
    },
    {
      "cell_type": "markdown",
      "source": [
        "## **Prática**\n"
      ],
      "metadata": {
        "id": "a-AqvbL_K37n"
      }
    },
    {
      "cell_type": "markdown",
      "source": [
        "### **Preparativos**"
      ],
      "metadata": {
        "id": "4NeGI3sXrJWX"
      }
    },
    {
      "cell_type": "code",
      "source": [
        "# IMPORTANDO BIBLIOTECAS\n",
        "\n",
        "# Bibliotecas básicas\n",
        "import numpy as np\n",
        "import pandas as pd\n",
        "\n",
        "# Gráficos e tabelas\n",
        "import matplotlib.pyplot as plt\n",
        "import matplotlib.colors\n",
        "import seaborn as sns\n",
        "\n",
        "# Algoritmo K-means e Elbow\n",
        "from sklearn.cluster import KMeans"
      ],
      "metadata": {
        "id": "evdEcOCWA2cg"
      },
      "execution_count": 1,
      "outputs": []
    },
    {
      "cell_type": "markdown",
      "source": [
        "Deve ser feito upload da base de dados para o Google Drive, para uso. Sugere-se que o upload seja feito sempre para a pasta raiz (pasta principal) do Google Drive de cada aluno. Para isso, temos de montar o drive e importá-la corretamente."
      ],
      "metadata": {
        "id": "EvVPL-oQLMQX"
      }
    },
    {
      "cell_type": "code",
      "source": [
        "from google.colab import drive\n",
        "drive.mount('/content/drive/')"
      ],
      "metadata": {
        "id": "B6ysRxyMp1af",
        "colab": {
          "base_uri": "https://localhost:8080/"
        },
        "outputId": "319b11a1-b395-412c-ec36-81aeb93ebc7b"
      },
      "execution_count": 2,
      "outputs": [
        {
          "output_type": "stream",
          "name": "stdout",
          "text": [
            "Mounted at /content/drive/\n"
          ]
        }
      ]
    },
    {
      "cell_type": "code",
      "source": [
        "# Configurando e lendo o arquivo CSV\n",
        "df = pd.read_csv('https://raw.githubusercontent.com/paulcesarbaruk/Images_dataset/main/alunos_engcomp.csv', delimiter = ';', decimal = ',')"
      ],
      "metadata": {
        "id": "R97iM2EFBB-g"
      },
      "execution_count": 3,
      "outputs": []
    },
    {
      "cell_type": "code",
      "source": [
        "# Verificando as 5 primeiras linhas do DataFrame\n",
        "print(\"_\"*50)\n",
        "print(\"\\tPRE VISUALIZACAO DA BASE DE DADOS\")\n",
        "print(\"_\"*50)\n",
        "print(df.head(),'\\n')"
      ],
      "metadata": {
        "id": "N78aEfC0BRfL",
        "colab": {
          "base_uri": "https://localhost:8080/"
        },
        "outputId": "a6d15f66-f990-4ff6-acd6-9431a05d4b42"
      },
      "execution_count": 4,
      "outputs": [
        {
          "output_type": "stream",
          "name": "stdout",
          "text": [
            "__________________________________________________\n",
            "\tPRE VISUALIZACAO DA BASE DE DADOS\n",
            "__________________________________________________\n",
            "  Sexo  Coeficiente  Período      Escola    ENEM\n",
            "0    M       0.7254       10     Pública     613\n",
            "1    M       0.0738        1     Pública  594,07\n",
            "2    M       0.4205        2     Pública   599,8\n",
            "3    M       0.0000        1     Pública  529,83\n",
            "4    M       0.3770        2  Particular  530,57 \n",
            "\n"
          ]
        }
      ]
    },
    {
      "cell_type": "code",
      "source": [
        "  # Número de linhas e colunas\n",
        "  num_linhas = df.shape[0]\n",
        "  num_colunas = df.shape[1]\n",
        "  print(f\"Numero de linhas: {num_linhas} e colunas: {num_colunas}\\n\")"
      ],
      "metadata": {
        "id": "Bzh9Pt37BXqv",
        "colab": {
          "base_uri": "https://localhost:8080/"
        },
        "outputId": "c748f659-15c1-4c1e-ebfe-4c2a6345022c"
      },
      "execution_count": 5,
      "outputs": [
        {
          "output_type": "stream",
          "name": "stdout",
          "text": [
            "Numero de linhas: 439 e colunas: 5\n",
            "\n"
          ]
        }
      ]
    },
    {
      "cell_type": "markdown",
      "source": [
        "### **Tratamento dos dados**"
      ],
      "metadata": {
        "id": "O91U5LoMLszI"
      }
    },
    {
      "cell_type": "code",
      "source": [
        "# TRADUZINDO NOTAS\n",
        "\n",
        "# Alunos que entraram por modalidade específica e independente do ENEM\n",
        "\n",
        "# Linhas onde o valor é zero é mantido\n",
        "df['ENEM'] = df['ENEM'].replace(np.nan, '0')\n",
        "\n",
        "# Linha onde o valor é #VALUE! é substituido por 0\n",
        "df['ENEM'] = df['ENEM'].replace('#VALUE!', '0')\n",
        "\n",
        "# Eliminando linha que não informa a escola\n",
        "index_nao_informado = df[df['Escola'] == 'Não Informado'].index\n",
        "df = df.drop(index=index_nao_informado)"
      ],
      "metadata": {
        "id": "btvwfMEtBaiE"
      },
      "execution_count": 6,
      "outputs": []
    },
    {
      "cell_type": "code",
      "source": [
        "# ELIMINANDO COLUNAS\n",
        "\n",
        "# Eliminando colunas de coeficiente e periodo\n",
        "del df['Coeficiente']\n",
        "del df['Período']"
      ],
      "metadata": {
        "id": "OuN02vawB9OW"
      },
      "execution_count": 7,
      "outputs": []
    },
    {
      "cell_type": "code",
      "source": [
        "# ALTERANDO RÓTULOS\n",
        "\n",
        "# Modifica rótulos textuais 'M' para 0 e 'F' to 1\n",
        "df[\"Sexo\"] = df[\"Sexo\"].apply(lambda sexo: 0 if sexo == 'M' else 1)\n",
        "\n",
        "# Modifica rótulos textuais 'Publica' para 0 e 'Particular' para 1\n",
        "df[\"Escola\"] = df[\"Escola\"].apply(lambda escola: 0 if escola == 'Pública' else 1)\n",
        "\n",
        "# Altera o ponto decimal ',' para '.'\n",
        "df[\"ENEM\"] = df[\"ENEM\"].str.replace(',','.')\n",
        "\n",
        "# Altera a nota do ENEM de str para float\n",
        "df['ENEM'] = pd.to_numeric(df[\"ENEM\"])"
      ],
      "metadata": {
        "id": "XEuDUjGACImO"
      },
      "execution_count": 8,
      "outputs": []
    },
    {
      "cell_type": "markdown",
      "source": [
        "### **Método do cotovelo (*elbow method*)**\n",
        "\n",
        "O método do cotovelo executa o agrupamento *k-means* no conjunto de dados para um intervalo de valores para $k$ (digamos, de 1 a 10) e, em seguida, para cada valor de $k$, calcula uma pontuação média para todos os agrupamentos.\n",
        "\n",
        "Ta método plota o valor da função de custo produzida por diferentes valores de $k$.\n",
        "\n",
        "![elbow_method.png](data:image/png;base64,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)"
      ],
      "metadata": {
        "id": "SmFroDBgL_Ck"
      }
    },
    {
      "cell_type": "code",
      "source": [
        "# MÉTODO DO COTOVELO(ELBOW METHOD)\n",
        "# Utilize-o para justificar a quantidade de agrupamentos.\n",
        "\n",
        "# Chama-se o construtor do K-Means\n",
        "# Varia o número de clusters no loop\n",
        "# inicializa com 'k-means++', pois aumenta a probabilidade\n",
        "# de escolher centroides distantes um do outro\n",
        "\n",
        "wcss = [] # Within cluster sum of squares\n",
        "for i in range(1, 12):\n",
        "  kmeans = KMeans(n_clusters = i, init = 'k-means++', random_state = 0)\n",
        "  # Treinando\n",
        "  kmeans.fit(df[['Escola', 'ENEM']])\n",
        "  # Guardando no vetor a inércia produzida\n",
        "  wcss.append(kmeans.inertia_)"
      ],
      "metadata": {
        "id": "fh8ScGIVCliK",
        "colab": {
          "base_uri": "https://localhost:8080/"
        },
        "outputId": "ca692392-9918-48b2-a5a9-d82cff7fe10f"
      },
      "execution_count": 9,
      "outputs": [
        {
          "output_type": "stream",
          "name": "stderr",
          "text": [
            "/usr/local/lib/python3.10/dist-packages/sklearn/cluster/_kmeans.py:870: FutureWarning: The default value of `n_init` will change from 10 to 'auto' in 1.4. Set the value of `n_init` explicitly to suppress the warning\n",
            "  warnings.warn(\n",
            "/usr/local/lib/python3.10/dist-packages/sklearn/cluster/_kmeans.py:870: FutureWarning: The default value of `n_init` will change from 10 to 'auto' in 1.4. Set the value of `n_init` explicitly to suppress the warning\n",
            "  warnings.warn(\n",
            "/usr/local/lib/python3.10/dist-packages/sklearn/cluster/_kmeans.py:870: FutureWarning: The default value of `n_init` will change from 10 to 'auto' in 1.4. Set the value of `n_init` explicitly to suppress the warning\n",
            "  warnings.warn(\n",
            "/usr/local/lib/python3.10/dist-packages/sklearn/cluster/_kmeans.py:870: FutureWarning: The default value of `n_init` will change from 10 to 'auto' in 1.4. Set the value of `n_init` explicitly to suppress the warning\n",
            "  warnings.warn(\n",
            "/usr/local/lib/python3.10/dist-packages/sklearn/cluster/_kmeans.py:870: FutureWarning: The default value of `n_init` will change from 10 to 'auto' in 1.4. Set the value of `n_init` explicitly to suppress the warning\n",
            "  warnings.warn(\n",
            "/usr/local/lib/python3.10/dist-packages/sklearn/cluster/_kmeans.py:870: FutureWarning: The default value of `n_init` will change from 10 to 'auto' in 1.4. Set the value of `n_init` explicitly to suppress the warning\n",
            "  warnings.warn(\n",
            "/usr/local/lib/python3.10/dist-packages/sklearn/cluster/_kmeans.py:870: FutureWarning: The default value of `n_init` will change from 10 to 'auto' in 1.4. Set the value of `n_init` explicitly to suppress the warning\n",
            "  warnings.warn(\n",
            "/usr/local/lib/python3.10/dist-packages/sklearn/cluster/_kmeans.py:870: FutureWarning: The default value of `n_init` will change from 10 to 'auto' in 1.4. Set the value of `n_init` explicitly to suppress the warning\n",
            "  warnings.warn(\n",
            "/usr/local/lib/python3.10/dist-packages/sklearn/cluster/_kmeans.py:870: FutureWarning: The default value of `n_init` will change from 10 to 'auto' in 1.4. Set the value of `n_init` explicitly to suppress the warning\n",
            "  warnings.warn(\n",
            "/usr/local/lib/python3.10/dist-packages/sklearn/cluster/_kmeans.py:870: FutureWarning: The default value of `n_init` will change from 10 to 'auto' in 1.4. Set the value of `n_init` explicitly to suppress the warning\n",
            "  warnings.warn(\n",
            "/usr/local/lib/python3.10/dist-packages/sklearn/cluster/_kmeans.py:870: FutureWarning: The default value of `n_init` will change from 10 to 'auto' in 1.4. Set the value of `n_init` explicitly to suppress the warning\n",
            "  warnings.warn(\n"
          ]
        }
      ]
    },
    {
      "cell_type": "code",
      "source": [
        "# Plotando o Elbow Method\n",
        "plt.plot(range(1,12), wcss)\n",
        "plt.title('Método do cotovelo')\n",
        "plt.xlabel('Número de Clusters')\n",
        "plt.ylabel('WCSS')\n",
        "plt.show()"
      ],
      "metadata": {
        "id": "Y44M6iaZC8O3",
        "colab": {
          "base_uri": "https://localhost:8080/",
          "height": 472
        },
        "outputId": "14c7101e-8939-4824-c06a-8e05c2d7f46e"
      },
      "execution_count": 10,
      "outputs": [
        {
          "output_type": "display_data",
          "data": {
            "text/plain": [
              "<Figure size 640x480 with 1 Axes>"
            ],
            "image/png": "[encoded data removed]"
          },
          "metadata": {}
        }
      ]
    },
    {
      "cell_type": "markdown",
      "source": [
        "### **Algoritmo K-Means**\n",
        "\n",
        "O K-Means é um algoritmo do tipo não supervisionado, ou seja, não trabalha com dados rotulados.\n",
        "\n",
        "De forma sucinta, ele busca encontrar similaridades entre os dados e agrupá-los conforme os números ́de *clusters* passado por um argumento $k$, que no caso específico tem o valor de 3.\n",
        "\n",
        "Para encontrar tal similaridade, é feito o uso de um método simples e eficiente baseado no conceito de distância."
      ],
      "metadata": {
        "id": "SsU_uXVFNTzO"
      }
    },
    {
      "cell_type": "code",
      "source": [
        "# Com a análise do método do cotovelo foi escolhido n_clusters = 3\n",
        "\n",
        "# Modelo\n",
        "kmeans = KMeans(n_clusters = 3, init=\"k-means++\")\n",
        "\n",
        "# Treinando o kmeans\n",
        "kmeans.fit(df[['Escola', 'ENEM']])"
      ],
      "metadata": {
        "id": "XSHS6MsKDFWL",
        "colab": {
          "base_uri": "https://localhost:8080/",
          "height": 129
        },
        "outputId": "16c2bb5c-fc16-4c33-a31c-64a3b189dd15"
      },
      "execution_count": 11,
      "outputs": [
        {
          "output_type": "stream",
          "name": "stderr",
          "text": [
            "/usr/local/lib/python3.10/dist-packages/sklearn/cluster/_kmeans.py:870: FutureWarning: The default value of `n_init` will change from 10 to 'auto' in 1.4. Set the value of `n_init` explicitly to suppress the warning\n",
            "  warnings.warn(\n"
          ]
        },
        {
          "output_type": "execute_result",
          "data": {
            "text/plain": [
              "KMeans(n_clusters=3)"
            ],
            "text/html": [
              "<style>#sk-container-id-1 {color: black;background-color: white;}#sk-container-id-1 pre{padding: 0;}#sk-container-id-1 div.sk-toggleable {background-color: white;}#sk-container-id-1 label.sk-toggleable__label {cursor: pointer;display: block;width: 100%;margin-bottom: 0;padding: 0.3em;box-sizing: border-box;text-align: center;}#sk-container-id-1 label.sk-toggleable__label-arrow:before {content: \"▸\";float: left;margin-right: 0.25em;color: #696969;}#sk-container-id-1 label.sk-toggleable__label-arrow:hover:before {color: black;}#sk-container-id-1 div.sk-estimator:hover label.sk-toggleable__label-arrow:before {color: black;}#sk-container-id-1 div.sk-toggleable__content {max-height: 0;max-width: 0;overflow: hidden;text-align: left;background-color: #f0f8ff;}#sk-container-id-1 div.sk-toggleable__content pre {margin: 0.2em;color: black;border-radius: 0.25em;background-color: #f0f8ff;}#sk-container-id-1 input.sk-toggleable__control:checked~div.sk-toggleable__content {max-height: 200px;max-width: 100%;overflow: auto;}#sk-container-id-1 input.sk-toggleable__control:checked~label.sk-toggleable__label-arrow:before {content: \"▾\";}#sk-container-id-1 div.sk-estimator input.sk-toggleable__control:checked~label.sk-toggleable__label {background-color: #d4ebff;}#sk-container-id-1 div.sk-label input.sk-toggleable__control:checked~label.sk-toggleable__label {background-color: #d4ebff;}#sk-container-id-1 input.sk-hidden--visually {border: 0;clip: rect(1px 1px 1px 1px);clip: rect(1px, 1px, 1px, 1px);height: 1px;margin: -1px;overflow: hidden;padding: 0;position: absolute;width: 1px;}#sk-container-id-1 div.sk-estimator {font-family: monospace;background-color: #f0f8ff;border: 1px dotted black;border-radius: 0.25em;box-sizing: border-box;margin-bottom: 0.5em;}#sk-container-id-1 div.sk-estimator:hover {background-color: #d4ebff;}#sk-container-id-1 div.sk-parallel-item::after {content: \"\";width: 100%;border-bottom: 1px solid gray;flex-grow: 1;}#sk-container-id-1 div.sk-label:hover label.sk-toggleable__label {background-color: #d4ebff;}#sk-container-id-1 div.sk-serial::before {content: \"\";position: absolute;border-left: 1px solid gray;box-sizing: border-box;top: 0;bottom: 0;left: 50%;z-index: 0;}#sk-container-id-1 div.sk-serial {display: flex;flex-direction: column;align-items: center;background-color: white;padding-right: 0.2em;padding-left: 0.2em;position: relative;}#sk-container-id-1 div.sk-item {position: relative;z-index: 1;}#sk-container-id-1 div.sk-parallel {display: flex;align-items: stretch;justify-content: center;background-color: white;position: relative;}#sk-container-id-1 div.sk-item::before, #sk-container-id-1 div.sk-parallel-item::before {content: \"\";position: absolute;border-left: 1px solid gray;box-sizing: border-box;top: 0;bottom: 0;left: 50%;z-index: -1;}#sk-container-id-1 div.sk-parallel-item {display: flex;flex-direction: column;z-index: 1;position: relative;background-color: white;}#sk-container-id-1 div.sk-parallel-item:first-child::after {align-self: flex-end;width: 50%;}#sk-container-id-1 div.sk-parallel-item:last-child::after {align-self: flex-start;width: 50%;}#sk-container-id-1 div.sk-parallel-item:only-child::after {width: 0;}#sk-container-id-1 div.sk-dashed-wrapped {border: 1px dashed gray;margin: 0 0.4em 0.5em 0.4em;box-sizing: border-box;padding-bottom: 0.4em;background-color: white;}#sk-container-id-1 div.sk-label label {font-family: monospace;font-weight: bold;display: inline-block;line-height: 1.2em;}#sk-container-id-1 div.sk-label-container {text-align: center;}#sk-container-id-1 div.sk-container {/* jupyter's `normalize.less` sets `[hidden] { display: none; }` but bootstrap.min.css set `[hidden] { display: none !important; }` so we also need the `!important` here to be able to override the default hidden behavior on the sphinx rendered scikit-learn.org. See: https://github.com/scikit-learn/scikit-learn/issues/21755 */display: inline-block !important;position: relative;}#sk-container-id-1 div.sk-text-repr-fallback {display: none;}</style><div id=\"sk-container-id-1\" class=\"sk-top-container\"><div class=\"sk-text-repr-fallback\"><pre>KMeans(n_clusters=3)</pre><b>In a Jupyter environment, please rerun this cell to show the HTML representation or trust the notebook. <br />On GitHub, the HTML representation is unable to render, please try loading this page with nbviewer.org.</b></div><div class=\"sk-container\" hidden><div class=\"sk-item\"><div class=\"sk-estimator sk-toggleable\"><input class=\"sk-toggleable__control sk-hidden--visually\" id=\"sk-estimator-id-1\" type=\"checkbox\" checked><label for=\"sk-estimator-id-1\" class=\"sk-toggleable__label sk-toggleable__label-arrow\">KMeans</label><div class=\"sk-toggleable__content\"><pre>KMeans(n_clusters=3)</pre></div></div></div></div></div>"
            ]
          },
          "metadata": {},
          "execution_count": 11
        }
      ]
    },
    {
      "cell_type": "code",
      "source": [
        "# Vendo os rótulos criados\n",
        "print(f\"Labels: {kmeans.labels_}\\n\")\n",
        "print(f\"Cluster Centers: {kmeans.cluster_centers_}\\n\")"
      ],
      "metadata": {
        "id": "rTEP1G7ODRip",
        "colab": {
          "base_uri": "https://localhost:8080/"
        },
        "outputId": "c2f51f30-1c33-4ebb-9a48-d23ff16ce226"
      },
      "execution_count": 12,
      "outputs": [
        {
          "output_type": "stream",
          "name": "stdout",
          "text": [
            "Labels: [2 0 0 0 0 0 2 2 0 1 2 0 2 0 0 2 2 0 0 2 2 0 2 0 2 0 2 2 2 0 0 2 2 0 0 2 2\n",
            " 2 0 2 2 1 0 2 2 0 0 2 1 1 2 0 2 2 0 1 0 2 0 0 0 2 0 1 2 0 2 2 2 0 1 2 0 0\n",
            " 0 0 1 0 0 2 0 0 0 0 2 2 0 2 2 2 2 2 2 2 2 0 2 2 0 0 2 2 0 0 0 2 0 1 2 2 2\n",
            " 2 0 2 0 2 0 1 2 0 2 0 2 2 2 2 2 2 2 2 2 2 2 0 0 0 0 2 0 0 0 0 2 2 0 2 2 2\n",
            " 2 2 0 2 0 2 2 2 0 0 0 0 2 0 2 2 2 2 0 0 0 0 0 2 0 2 0 0 0 2 2 2 0 2 0 2 2\n",
            " 0 0 2 2 1 2 2 2 0 2 0 2 2 0 2 1 0 2 1 0 0 0 2 2 2 2 2 2 2 2 2 2 2 2 2 2 2\n",
            " 2 2 2 2 2 1 1 2 0 2 0 2 2 0 0 0 1 2 0 2 0 2 0 0 0 0 2 0 2 2 1 2 2 2 0 0 2\n",
            " 2 2 2 2 2 2 2 0 0 0 2 2 2 2 0 2 2 2 0 2 2 2 2 2 2 2 2 2 2 2 0 0 0 0 1 2 2\n",
            " 0 0 2 2 0 2 0 1 0 0 2 0 2 0 0 2 0 2 0 0 0 2 0 0 0 2 2 2 0 2 2 2 0 0 0 2 2\n",
            " 0 2 0 0 2 2 0 2 2 2 2 2 0 0 0 2 2 2 2 2 2 2 2 0 0 2 0 0 0 2 2 2 2 2 2 0 2\n",
            " 2 0 2 2 2 2 2 0 0 0 0 1 2 0 0 0 2 0 2 0 2 2 0 0 0 2 1 2 2 2 2 0 0 2 2 2 0\n",
            " 2 2 2 0 2 2 0 0 2 2 2 2 2 0 0 2 2 2 2 0 0 0 0 2 2 2 0 0 0]\n",
            "\n",
            "Cluster Centers: [[2.57142857e-01 5.51811600e+02]\n",
            " [3.80952381e-01 0.00000000e+00]\n",
            " [5.20833333e-01 6.68757667e+02]]\n",
            "\n"
          ]
        }
      ]
    },
    {
      "cell_type": "code",
      "source": [
        "# Visualizando os clusters\n",
        "\n",
        "print(\"=\" * 50)\n",
        "print(\"\\t\\tVISUALIZANDO OS CLUTERS\")\n",
        "print(\"=\" * 50)\n",
        "for label in np.unique(kmeans.labels_):\n",
        "  print('LABEL: ', label)\n",
        "  print(df.iloc[kmeans.labels_ == label])\n",
        "  print('\\n')"
      ],
      "metadata": {
        "id": "mLwwU84LDXJw",
        "colab": {
          "base_uri": "https://localhost:8080/"
        },
        "outputId": "288936d8-1cd4-4ae4-f0e7-ae5f6d94b365"
      },
      "execution_count": 13,
      "outputs": [
        {
          "output_type": "stream",
          "name": "stdout",
          "text": [
            "==================================================\n",
            "\t\tVISUALIZANDO OS CLUTERS\n",
            "==================================================\n",
            "LABEL:  0\n",
            "     Sexo  Escola    ENEM\n",
            "1       0       0  594.07\n",
            "2       0       0  599.80\n",
            "3       0       0  529.83\n",
            "4       0       1  530.57\n",
            "5       0       0  520.89\n",
            "..    ...     ...     ...\n",
            "431     0       0  429.30\n",
            "432     0       1  582.66\n",
            "436     0       0  513.09\n",
            "437     1       0  519.19\n",
            "438     0       0  546.14\n",
            "\n",
            "[174 rows x 3 columns]\n",
            "\n",
            "\n",
            "LABEL:  1\n",
            "     Sexo  Escola  ENEM\n",
            "9       0       1   0.0\n",
            "41      0       1   0.0\n",
            "48      0       0   0.0\n",
            "49      0       0   0.0\n",
            "55      0       1   0.0\n",
            "63      0       0   0.0\n",
            "70      0       0   0.0\n",
            "76      0       0   0.0\n",
            "108     0       0   0.0\n",
            "118     0       1   0.0\n",
            "191     0       1   0.0\n",
            "202     0       0   0.0\n",
            "205     1       1   0.0\n",
            "229     0       1   0.0\n",
            "230     0       0   0.0\n",
            "240     1       0   0.0\n",
            "254     0       1   0.0\n",
            "295     0       0   0.0\n",
            "306     0       0   0.0\n",
            "384     0       0   0.0\n",
            "399     1       0   0.0\n",
            "\n",
            "\n",
            "LABEL:  2\n",
            "     Sexo  Escola    ENEM\n",
            "0       0       0  613.00\n",
            "6       0       0  728.40\n",
            "7       0       1  692.16\n",
            "10      0       0  647.12\n",
            "12      0       0  611.70\n",
            "..    ...     ...     ...\n",
            "427     0       0  626.70\n",
            "428     0       1  610.30\n",
            "433     0       1  619.00\n",
            "434     0       0  684.50\n",
            "435     0       0  626.00\n",
            "\n",
            "[241 rows x 3 columns]\n",
            "\n",
            "\n"
          ]
        }
      ]
    },
    {
      "cell_type": "code",
      "source": [
        "# Incluindo a column clusters\n",
        "df['Clusters'] = kmeans.labels_\n",
        "print(\"=\" * 50)\n",
        "print(\"\\t\\tVISUALIZACAO - ADD CLUSTERS\")\n",
        "print(\"=\" * 50)\n",
        "print(df.head(), '\\n')"
      ],
      "metadata": {
        "id": "fRusabJJDvyX",
        "colab": {
          "base_uri": "https://localhost:8080/"
        },
        "outputId": "ebaf20df-61d5-4896-dbe6-5355e281b61f"
      },
      "execution_count": 14,
      "outputs": [
        {
          "output_type": "stream",
          "name": "stdout",
          "text": [
            "==================================================\n",
            "\t\tVISUALIZACAO - ADD CLUSTERS\n",
            "==================================================\n",
            "   Sexo  Escola    ENEM  Clusters\n",
            "0     0       0  613.00         2\n",
            "1     0       0  594.07         0\n",
            "2     0       0  599.80         0\n",
            "3     0       0  529.83         0\n",
            "4     0       1  530.57         0 \n",
            "\n"
          ]
        }
      ]
    },
    {
      "cell_type": "markdown",
      "source": [
        "### **Visualizando os clusters**\n",
        "\n",
        "Vamos fazer um gráfico onde o eixo da abscissa representa as notas do ENEM, variando entre 0 e aproximadamente 800.\n",
        "\n",
        "Além disso, o eixo das ordenadas indica o tipo de escola, no qual o 0 representa escola \"Pública\" e o 1 representa escola ”Particular”.\n"
      ],
      "metadata": {
        "id": "_Ow6QCDmO7w2"
      }
    },
    {
      "cell_type": "code",
      "source": [
        "# Plotando o clustering\n",
        "cmap = matplotlib.colors.ListedColormap(['red', 'blue', 'green'], \"\")\n",
        "norm = matplotlib.colors.BoundaryNorm(boundaries=[0, 1, 2, 3], ncolors=3, clip=True)\n",
        "sns.scatterplot(x='ENEM', y = 'Escola', hue = 'Clusters', data = df, palette = cmap, hue_norm = norm)\n",
        "\n",
        "plt.show()"
      ],
      "metadata": {
        "id": "u19oCuHwD2w_",
        "colab": {
          "base_uri": "https://localhost:8080/",
          "height": 449
        },
        "outputId": "c7fdc85d-1d4e-44ad-b864-e7ec118dfc94"
      },
      "execution_count": 15,
      "outputs": [
        {
          "output_type": "display_data",
          "data": {
            "text/plain": [
              "<Figure size 640x480 with 1 Axes>"
            ],
            "image/png": "[encoded data removed]"
          },
          "metadata": {}
        }
      ]
    },
    {
      "cell_type": "markdown",
      "source": [
        "De início, tem-se que o eixo da abscissa representa as notas do ENEM, variando entre 0 e aproximadamente 800. Além disso, o eixo das ordenadas indica o tipo de escola, no qual o 0 representa escola \"Pública\" e  o 1 representa escola ”Particular”.\n"
      ],
      "metadata": {
        "id": "haXJnelkOx4E"
      }
    },
    {
      "cell_type": "markdown",
      "source": [
        "### **Interpretando o modelo**\n",
        "\n",
        "Com o processo de clusterização, é possível notar um padrão entre os agrupamentos de alunos de Engenharia da Computação evidenciado pelas 3 cores.\n",
        "\n",
        "Uma forma de interpretação é que a cor azul representa os alunos que entram por alguma modalidade específica e independente do ENEM, pois suas notas são indicadas como 0 no processamento de dados.\n",
        "\n",
        "Posteriormente, a cor vermelha simboliza notas baixas/médias. Por fim, a cor verde representa as notas mais altas.\n",
        "\n",
        "Nota-se que há uma ramificação socioeconômica nos padrões obtidos quando comparada a nota do ENEM com o tipo de escola do aluno.\n",
        "\n",
        "Os estudantes que adentraram na universidade vindo de escola particular obtiveram um resultado melhor nas notas do ENEM. Eles possuem uma  concentração maior entre notas mais altas quando comparado a estudantes de escolas públicas.\n"
      ],
      "metadata": {
        "id": "76gRePaOPln-"
      }
    },
    {
      "cell_type": "markdown",
      "source": [
        "### **Conclusão do estudo**\n",
        "\n",
        "Em suma, conclui-se que mesmo a escola particular tendo alguns casos de notas baixas/médias, sua grande maioria contém notas maiores que 550 e tendo maior concentração em notas altas, enquanto que a escola pública tem pouca concentração em notas mais altas.\n",
        "\n",
        "Esses dados permitem afirmar que estudantes de escolas particulares obtêm vantagens em relação a estudantes de escolas públicas quando o assunto é uma vaga em uma universidade pública."
      ],
      "metadata": {
        "id": "jf9xa0nqQDg9"
      }
    },
    {
      "cell_type": "markdown",
      "source": [
        "---\n",
        "\n",
        "Notebook utilizado para fins educacionais da **Awari**.\n",
        "\n",
        "**© AWARI. Todos os direitos reservados.**"
      ],
      "metadata": {
        "id": "Dxakkp2smCNv"
      }
    }
  ]
}