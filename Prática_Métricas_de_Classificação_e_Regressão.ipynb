{
  "cells": [
    {
      "cell_type": "markdown",
      "metadata": {
        "id": "view-in-github",
        "colab_type": "text"
      },
      "source": [
        "<a href=\"https://colab.research.google.com/github/paulcesarbaruk/Analsying-the-Salary-of-Data-Scientists/blob/main/Pr%C3%A1tica_M%C3%A9tricas_de_Classifica%C3%A7%C3%A3o_e_Regress%C3%A3o.ipynb\" target=\"_parent\"><img src=\"https://colab.research.google.com/assets/colab-badge.svg\" alt=\"Open In Colab\"/></a>"
      ]
    },
    {
      "cell_type": "markdown",
      "source": [
        "<img src=\"https://img.freepik.com/fotos-gratis/conceito-de-ajuda-medica-de-cuidados-de-saude_53876-123679.jpg?w=996&t=st=1703869046~exp=1703869646~hmac=51c643f138786e74829cad945fa2e65d39d6c536a14f95a9292dce1a50dc5bf6\" alt=\"Alternative text\" />"
      ],
      "metadata": {
        "id": "4E6QJ02t86FD"
      }
    },
    {
      "cell_type": "markdown",
      "source": [
        "# **Métricas de Classificação e Regressão**"
      ],
      "metadata": {
        "id": "TBUQuyk2j415"
      }
    },
    {
      "cell_type": "markdown",
      "metadata": {
        "id": "7x5LXjyF5nc7"
      },
      "source": [
        "## **Objetivo**\n",
        "\n",
        "Nesta prática, iremos comentar e demonstrar algumas métricas para modelos de Classificação e Regressão.\n",
        "\n",
        "Após o processo de *feature engineering* (engenharia de recursos ou \"ajuste das variáveis\"), de implementarmos um modelo e obtermos saídas em forma de probabilidades ou classe, a próxima necessidade é entender o quão eficaz o modelo é, baseado em alguma métrica.\n",
        "\n",
        "É importante conhecer métricas e saber como usá-las para saber se os resultados entregues pelo modelo estão sendo satisfatórios ou não.\n",
        "\n",
        "Esta página do [Scikit-learn](https://scikit-learn.org/stable/modules/model_evaluation.html) fornece uma boa referência sobre o assunto."
      ]
    },
    {
      "cell_type": "markdown",
      "source": [
        "## **Prática**"
      ],
      "metadata": {
        "id": "LPFFvzpqk1A0"
      }
    },
    {
      "cell_type": "markdown",
      "source": [
        "### **Visão geral**\n",
        "\n",
        "**Métricas de Classificação:**\n",
        "\n",
        "- Accuracy.\n",
        "- Logarithmic Loss.\n",
        "- ROC, AUC.\n",
        "- Confusion Matrix.\n",
        "- Classification Report.\n",
        "\n",
        "**Métricas de Regressão:**\n",
        "\n",
        "- Mean Absolute Error. MAE\n",
        "- Mean Squared Error. MSE\n",
        "- Root Mean Squared Error. RMSE\n",
        "- Root Mean Squared Logarithmic Error. RMSLE\n",
        "- R Square.\n",
        "- Adjusted R Square.\n",
        "\n",
        "Em **problemas de classificação**, usamos dois tipos de algoritmos (dependendo do tipo de saída que ele cria):\n",
        "\n",
        "- **Saída de classe**: Algoritmos como SVM e KNN criam uma saída de classe. Por exemplo, em um problema de classificação binária, as saídas serão 0 ou 1. Os algoritmos do SKLearn/Outros podem converter essas saídas de classe em probabilidade.\n",
        "\n",
        "- **Saída de probabilidade**: Algoritmos como Regressão Logística, Floresta Aleatória, Aumento de Gradiente, Adaboost etc. fornecem saídas de probabilidade. As saídas de probabilidade podem ser convertidas em saídas de classe criando uma probabilidade limite.\n",
        "\n",
        "Em **problemas de regressão**, a saída é sempre contínua por natureza e não requer tratamento adicional."
      ],
      "metadata": {
        "id": "jrDKRjU5k4Ah"
      }
    },
    {
      "cell_type": "markdown",
      "metadata": {
        "id": "Lfc9ouiK5nc9"
      },
      "source": [
        "### **Métricas de Classificação**\n",
        "\n",
        "Vamos usar o dataset [diabetes.csv](diabetes.csv) referente a dados deste tipo de doença para nossa prática. Faça upload do mesmo para o seu Google Drive, para poder importá-lo a seguir.\n",
        "\n",
        "A avaliação será feita por `Logistic Regression`, `SGDClassifier` e `RandomForestClassifier`."
      ]
    },
    {
      "cell_type": "code",
      "source": [
        "from google.colab import drive\n",
        "drive.mount('/content/drive/')"
      ],
      "metadata": {
        "id": "G1imlwzSBhE8",
        "outputId": "ac938600-5c9a-43a1-df52-5146e91a9dee",
        "colab": {
          "base_uri": "https://localhost:8080/"
        }
      },
      "execution_count": 1,
      "outputs": [
        {
          "output_type": "stream",
          "name": "stdout",
          "text": [
            "Mounted at /content/drive/\n"
          ]
        }
      ]
    },
    {
      "cell_type": "code",
      "source": [
        "import pandas as pd\n",
        "from sklearn import metrics\n",
        "from sklearn.ensemble import RandomForestClassifier\n",
        "from sklearn.linear_model import LogisticRegression, SGDClassifier\n",
        "from sklearn.model_selection import train_test_split, cross_val_score, cross_val_predict, StratifiedKFold\n",
        "\n",
        "import matplotlib.pyplot as plt\n",
        "\n",
        "import warnings\n",
        "warnings.filterwarnings('ignore')"
      ],
      "metadata": {
        "id": "6tL29fXpdeWi"
      },
      "execution_count": 2,
      "outputs": []
    },
    {
      "cell_type": "code",
      "source": [
        "diabetes_data = pd.read_csv('https://raw.githubusercontent.com/paulcesarbaruk/Images_dataset/main/diabetes.csv')\n",
        "\n",
        "X =  diabetes_data.drop([\"Outcome\"],axis = 1)\n",
        "y = diabetes_data[\"Outcome\"]"
      ],
      "metadata": {
        "id": "-AcdxhuYdn5N"
      },
      "execution_count": 3,
      "outputs": []
    },
    {
      "cell_type": "code",
      "source": [
        "diabetes_data.shape"
      ],
      "metadata": {
        "id": "Vq4ciL8y6WHn",
        "outputId": "de6c6e9f-fa6a-4033-d899-a7c166c3f9b4",
        "colab": {
          "base_uri": "https://localhost:8080/"
        }
      },
      "execution_count": 4,
      "outputs": [
        {
          "output_type": "execute_result",
          "data": {
            "text/plain": [
              "(768, 9)"
            ]
          },
          "metadata": {},
          "execution_count": 4
        }
      ]
    },
    {
      "cell_type": "code",
      "source": [
        "diabetes_data.head()"
      ],
      "metadata": {
        "id": "Se54VnrS6hHh",
        "outputId": "ff3385b0-8432-4cea-b346-f447ed417b6f",
        "colab": {
          "base_uri": "https://localhost:8080/",
          "height": 206
        }
      },
      "execution_count": null,
      "outputs": [
        {
          "output_type": "execute_result",
          "data": {
            "text/plain": [
              "   Pregnancies  Glucose  BloodPressure  SkinThickness  Insulin   BMI  \\\n",
              "0            6      148             72             35        0  33.6   \n",
              "1            1       85             66             29        0  26.6   \n",
              "2            8      183             64              0        0  23.3   \n",
              "3            1       89             66             23       94  28.1   \n",
              "4            0      137             40             35      168  43.1   \n",
              "\n",
              "   DiabetesPedigreeFunction  Age  Outcome  \n",
              "0                     0.627   50        1  \n",
              "1                     0.351   31        0  \n",
              "2                     0.672   32        1  \n",
              "3                     0.167   21        0  \n",
              "4                     2.288   33        1  "
            ],
            "text/html": [
              "\n",
              "  <div id=\"df-4c950fca-6fcb-4f58-abb5-aabc4804d6cc\" class=\"colab-df-container\">\n",
              "    <div>\n",
              "<style scoped>\n",
              "    .dataframe tbody tr th:only-of-type {\n",
              "        vertical-align: middle;\n",
              "    }\n",
              "\n",
              "    .dataframe tbody tr th {\n",
              "        vertical-align: top;\n",
              "    }\n",
              "\n",
              "    .dataframe thead th {\n",
              "        text-align: right;\n",
              "    }\n",
              "</style>\n",
              "<table border=\"1\" class=\"dataframe\">\n",
              "  <thead>\n",
              "    <tr style=\"text-align: right;\">\n",
              "      <th></th>\n",
              "      <th>Pregnancies</th>\n",
              "      <th>Glucose</th>\n",
              "      <th>BloodPressure</th>\n",
              "      <th>SkinThickness</th>\n",
              "      <th>Insulin</th>\n",
              "      <th>BMI</th>\n",
              "      <th>DiabetesPedigreeFunction</th>\n",
              "      <th>Age</th>\n",
              "      <th>Outcome</th>\n",
              "    </tr>\n",
              "  </thead>\n",
              "  <tbody>\n",
              "    <tr>\n",
              "      <th>0</th>\n",
              "      <td>6</td>\n",
              "      <td>148</td>\n",
              "      <td>72</td>\n",
              "      <td>35</td>\n",
              "      <td>0</td>\n",
              "      <td>33.6</td>\n",
              "      <td>0.627</td>\n",
              "      <td>50</td>\n",
              "      <td>1</td>\n",
              "    </tr>\n",
              "    <tr>\n",
              "      <th>1</th>\n",
              "      <td>1</td>\n",
              "      <td>85</td>\n",
              "      <td>66</td>\n",
              "      <td>29</td>\n",
              "      <td>0</td>\n",
              "      <td>26.6</td>\n",
              "      <td>0.351</td>\n",
              "      <td>31</td>\n",
              "      <td>0</td>\n",
              "    </tr>\n",
              "    <tr>\n",
              "      <th>2</th>\n",
              "      <td>8</td>\n",
              "      <td>183</td>\n",
              "      <td>64</td>\n",
              "      <td>0</td>\n",
              "      <td>0</td>\n",
              "      <td>23.3</td>\n",
              "      <td>0.672</td>\n",
              "      <td>32</td>\n",
              "      <td>1</td>\n",
              "    </tr>\n",
              "    <tr>\n",
              "      <th>3</th>\n",
              "      <td>1</td>\n",
              "      <td>89</td>\n",
              "      <td>66</td>\n",
              "      <td>23</td>\n",
              "      <td>94</td>\n",
              "      <td>28.1</td>\n",
              "      <td>0.167</td>\n",
              "      <td>21</td>\n",
              "      <td>0</td>\n",
              "    </tr>\n",
              "    <tr>\n",
              "      <th>4</th>\n",
              "      <td>0</td>\n",
              "      <td>137</td>\n",
              "      <td>40</td>\n",
              "      <td>35</td>\n",
              "      <td>168</td>\n",
              "      <td>43.1</td>\n",
              "      <td>2.288</td>\n",
              "      <td>33</td>\n",
              "      <td>1</td>\n",
              "    </tr>\n",
              "  </tbody>\n",
              "</table>\n",
              "</div>\n",
              "    <div class=\"colab-df-buttons\">\n",
              "\n",
              "  <div class=\"colab-df-container\">\n",
              "    <button class=\"colab-df-convert\" onclick=\"convertToInteractive('df-4c950fca-6fcb-4f58-abb5-aabc4804d6cc')\"\n",
              "            title=\"Convert this dataframe to an interactive table.\"\n",
              "            style=\"display:none;\">\n",
              "\n",
              "  <svg xmlns=\"http://www.w3.org/2000/svg\" height=\"24px\" viewBox=\"0 -960 960 960\">\n",
              "    <path d=\"M120-120v-720h720v720H120Zm60-500h600v-160H180v160Zm220 220h160v-160H400v160Zm0 220h160v-160H400v160ZM180-400h160v-160H180v160Zm440 0h160v-160H620v160ZM180-180h160v-160H180v160Zm440 0h160v-160H620v160Z\"/>\n",
              "  </svg>\n",
              "    </button>\n",
              "\n",
              "  <style>\n",
              "    .colab-df-container {\n",
              "      display:flex;\n",
              "      gap: 12px;\n",
              "    }\n",
              "\n",
              "    .colab-df-convert {\n",
              "      background-color: #E8F0FE;\n",
              "      border: none;\n",
              "      border-radius: 50%;\n",
              "      cursor: pointer;\n",
              "      display: none;\n",
              "      fill: #1967D2;\n",
              "      height: 32px;\n",
              "      padding: 0 0 0 0;\n",
              "      width: 32px;\n",
              "    }\n",
              "\n",
              "    .colab-df-convert:hover {\n",
              "      background-color: #E2EBFA;\n",
              "      box-shadow: 0px 1px 2px rgba(60, 64, 67, 0.3), 0px 1px 3px 1px rgba(60, 64, 67, 0.15);\n",
              "      fill: #174EA6;\n",
              "    }\n",
              "\n",
              "    .colab-df-buttons div {\n",
              "      margin-bottom: 4px;\n",
              "    }\n",
              "\n",
              "    [theme=dark] .colab-df-convert {\n",
              "      background-color: #3B4455;\n",
              "      fill: #D2E3FC;\n",
              "    }\n",
              "\n",
              "    [theme=dark] .colab-df-convert:hover {\n",
              "      background-color: #434B5C;\n",
              "      box-shadow: 0px 1px 3px 1px rgba(0, 0, 0, 0.15);\n",
              "      filter: drop-shadow(0px 1px 2px rgba(0, 0, 0, 0.3));\n",
              "      fill: #FFFFFF;\n",
              "    }\n",
              "  </style>\n",
              "\n",
              "    <script>\n",
              "      const buttonEl =\n",
              "        document.querySelector('#df-4c950fca-6fcb-4f58-abb5-aabc4804d6cc button.colab-df-convert');\n",
              "      buttonEl.style.display =\n",
              "        google.colab.kernel.accessAllowed ? 'block' : 'none';\n",
              "\n",
              "      async function convertToInteractive(key) {\n",
              "        const element = document.querySelector('#df-4c950fca-6fcb-4f58-abb5-aabc4804d6cc');\n",
              "        const dataTable =\n",
              "          await google.colab.kernel.invokeFunction('convertToInteractive',\n",
              "                                                    [key], {});\n",
              "        if (!dataTable) return;\n",
              "\n",
              "        const docLinkHtml = 'Like what you see? Visit the ' +\n",
              "          '<a target=\"_blank\" href=https://colab.research.google.com/notebooks/data_table.ipynb>data table notebook</a>'\n",
              "          + ' to learn more about interactive tables.';\n",
              "        element.innerHTML = '';\n",
              "        dataTable['output_type'] = 'display_data';\n",
              "        await google.colab.output.renderOutput(dataTable, element);\n",
              "        const docLink = document.createElement('div');\n",
              "        docLink.innerHTML = docLinkHtml;\n",
              "        element.appendChild(docLink);\n",
              "      }\n",
              "    </script>\n",
              "  </div>\n",
              "\n",
              "\n",
              "<div id=\"df-f460633a-eae5-47bd-b108-158157b16329\">\n",
              "  <button class=\"colab-df-quickchart\" onclick=\"quickchart('df-f460633a-eae5-47bd-b108-158157b16329')\"\n",
              "            title=\"Suggest charts\"\n",
              "            style=\"display:none;\">\n",
              "\n",
              "<svg xmlns=\"http://www.w3.org/2000/svg\" height=\"24px\"viewBox=\"0 0 24 24\"\n",
              "     width=\"24px\">\n",
              "    <g>\n",
              "        <path d=\"M19 3H5c-1.1 0-2 .9-2 2v14c0 1.1.9 2 2 2h14c1.1 0 2-.9 2-2V5c0-1.1-.9-2-2-2zM9 17H7v-7h2v7zm4 0h-2V7h2v10zm4 0h-2v-4h2v4z\"/>\n",
              "    </g>\n",
              "</svg>\n",
              "  </button>\n",
              "\n",
              "<style>\n",
              "  .colab-df-quickchart {\n",
              "      --bg-color: #E8F0FE;\n",
              "      --fill-color: #1967D2;\n",
              "      --hover-bg-color: #E2EBFA;\n",
              "      --hover-fill-color: #174EA6;\n",
              "      --disabled-fill-color: #AAA;\n",
              "      --disabled-bg-color: #DDD;\n",
              "  }\n",
              "\n",
              "  [theme=dark] .colab-df-quickchart {\n",
              "      --bg-color: #3B4455;\n",
              "      --fill-color: #D2E3FC;\n",
              "      --hover-bg-color: #434B5C;\n",
              "      --hover-fill-color: #FFFFFF;\n",
              "      --disabled-bg-color: #3B4455;\n",
              "      --disabled-fill-color: #666;\n",
              "  }\n",
              "\n",
              "  .colab-df-quickchart {\n",
              "    background-color: var(--bg-color);\n",
              "    border: none;\n",
              "    border-radius: 50%;\n",
              "    cursor: pointer;\n",
              "    display: none;\n",
              "    fill: var(--fill-color);\n",
              "    height: 32px;\n",
              "    padding: 0;\n",
              "    width: 32px;\n",
              "  }\n",
              "\n",
              "  .colab-df-quickchart:hover {\n",
              "    background-color: var(--hover-bg-color);\n",
              "    box-shadow: 0 1px 2px rgba(60, 64, 67, 0.3), 0 1px 3px 1px rgba(60, 64, 67, 0.15);\n",
              "    fill: var(--button-hover-fill-color);\n",
              "  }\n",
              "\n",
              "  .colab-df-quickchart-complete:disabled,\n",
              "  .colab-df-quickchart-complete:disabled:hover {\n",
              "    background-color: var(--disabled-bg-color);\n",
              "    fill: var(--disabled-fill-color);\n",
              "    box-shadow: none;\n",
              "  }\n",
              "\n",
              "  .colab-df-spinner {\n",
              "    border: 2px solid var(--fill-color);\n",
              "    border-color: transparent;\n",
              "    border-bottom-color: var(--fill-color);\n",
              "    animation:\n",
              "      spin 1s steps(1) infinite;\n",
              "  }\n",
              "\n",
              "  @keyframes spin {\n",
              "    0% {\n",
              "      border-color: transparent;\n",
              "      border-bottom-color: var(--fill-color);\n",
              "      border-left-color: var(--fill-color);\n",
              "    }\n",
              "    20% {\n",
              "      border-color: transparent;\n",
              "      border-left-color: var(--fill-color);\n",
              "      border-top-color: var(--fill-color);\n",
              "    }\n",
              "    30% {\n",
              "      border-color: transparent;\n",
              "      border-left-color: var(--fill-color);\n",
              "      border-top-color: var(--fill-color);\n",
              "      border-right-color: var(--fill-color);\n",
              "    }\n",
              "    40% {\n",
              "      border-color: transparent;\n",
              "      border-right-color: var(--fill-color);\n",
              "      border-top-color: var(--fill-color);\n",
              "    }\n",
              "    60% {\n",
              "      border-color: transparent;\n",
              "      border-right-color: var(--fill-color);\n",
              "    }\n",
              "    80% {\n",
              "      border-color: transparent;\n",
              "      border-right-color: var(--fill-color);\n",
              "      border-bottom-color: var(--fill-color);\n",
              "    }\n",
              "    90% {\n",
              "      border-color: transparent;\n",
              "      border-bottom-color: var(--fill-color);\n",
              "    }\n",
              "  }\n",
              "</style>\n",
              "\n",
              "  <script>\n",
              "    async function quickchart(key) {\n",
              "      const quickchartButtonEl =\n",
              "        document.querySelector('#' + key + ' button');\n",
              "      quickchartButtonEl.disabled = true;  // To prevent multiple clicks.\n",
              "      quickchartButtonEl.classList.add('colab-df-spinner');\n",
              "      try {\n",
              "        const charts = await google.colab.kernel.invokeFunction(\n",
              "            'suggestCharts', [key], {});\n",
              "      } catch (error) {\n",
              "        console.error('Error during call to suggestCharts:', error);\n",
              "      }\n",
              "      quickchartButtonEl.classList.remove('colab-df-spinner');\n",
              "      quickchartButtonEl.classList.add('colab-df-quickchart-complete');\n",
              "    }\n",
              "    (() => {\n",
              "      let quickchartButtonEl =\n",
              "        document.querySelector('#df-f460633a-eae5-47bd-b108-158157b16329 button');\n",
              "      quickchartButtonEl.style.display =\n",
              "        google.colab.kernel.accessAllowed ? 'block' : 'none';\n",
              "    })();\n",
              "  </script>\n",
              "</div>\n",
              "\n",
              "    </div>\n",
              "  </div>\n"
            ]
          },
          "metadata": {},
          "execution_count": 6
        }
      ]
    },
    {
      "cell_type": "code",
      "source": [
        "# Treinando vários modelos com vários hiperparâmetros usando o conjunto de treinamento, selecione o modelo e os hiperparâmetros que apresentam melhor desempenho no conjunto de validação.\n",
        "# Uma vez que o tipo de modelo e os hiperparâmetros tenham sido selecionados, treinamos o modelo final usando esses hiperparâmetros no conjunto de treinamento completo, o erro generalizado é finalmente medido no conjunto de teste.\n",
        "X_train, X_test, y_train, y_test = train_test_split(X, y, stratify = y, random_state = 56)\n"
      ],
      "metadata": {
        "id": "tIeIpwTGdqRS"
      },
      "execution_count": 5,
      "outputs": []
    },
    {
      "cell_type": "code",
      "source": [
        "# StratifiedKFold class realiza amostragem estratificada para produzir dobras\"folds\" que contêm uma proporção representativa de cada classe.\n",
        "cv = StratifiedKFold(n_splits=10, shuffle = True, random_state = 76)"
      ],
      "metadata": {
        "id": "u70tbNGzdvs8"
      },
      "execution_count": 6,
      "outputs": []
    },
    {
      "cell_type": "markdown",
      "source": [
        "### Treinando diversos modelos"
      ],
      "metadata": {
        "id": "rVt0y6FAemTT"
      }
    },
    {
      "cell_type": "code",
      "source": [
        "# Logistic Regression - Regressão Logística\n",
        "clf_logreg = LogisticRegression()\n",
        "# fit model - treino do modelo\n",
        "clf_logreg.fit(X_train, y_train)\n",
        "# Previsões de classe para o conjunto de validação.\n",
        "y_pred_class_logreg = cross_val_predict(clf_logreg, X_train, y_train, cv = cv)\n",
        "# probabilidades previstas para a classe 1, probabilidades da classe positiva\n",
        "y_pred_prob_logreg = cross_val_predict(clf_logreg, X_train, y_train, cv = cv, method=\"predict_proba\")\n",
        "y_pred_prob_logreg_class1 = y_pred_prob_logreg[:, 1]\n"
      ],
      "metadata": {
        "id": "FQtYOK6wdy9y"
      },
      "execution_count": 7,
      "outputs": []
    },
    {
      "cell_type": "code",
      "source": [
        "# Random Forest Classifier\n",
        "clf_rfc = RandomForestClassifier()\n",
        "# fit model - treino\n",
        "clf_rfc.fit(X_train, y_train)\n",
        "# Previsões de classe para o conjunto de validação.\n",
        "y_pred_class_rfc = cross_val_predict(clf_rfc, X_train, y_train, cv = cv)\n",
        "# probabilidades previstas para a classe 1\n",
        "y_pred_prob_rfc = cross_val_predict(clf_rfc, X_train, y_train, cv = cv, method=\"predict_proba\")\n",
        "y_pred_prob_rfc_class1 = y_pred_prob_rfc[:, 1]"
      ],
      "metadata": {
        "id": "ao_ygHrZd2Yj"
      },
      "execution_count": 8,
      "outputs": []
    },
    {
      "cell_type": "code",
      "source": [
        "# SGD Classifier\n",
        "clf_SGD = SGDClassifier()\n",
        "# fit model - treino\n",
        "clf_SGD.fit(X_train, y_train)\n",
        "# Previsões de classe para o conjunto de validação.\n",
        "y_pred_class_SGD = cross_val_predict(clf_SGD, X_train, y_train, cv = cv)\n",
        "# probabilidades previstas para a classe 1\n",
        "y_pred_prob_SGD = cross_val_predict(clf_SGD, X_train, y_train, cv = cv, method=\"decision_function\")"
      ],
      "metadata": {
        "id": "uN8zajFRdkwb"
      },
      "execution_count": 9,
      "outputs": []
    },
    {
      "cell_type": "markdown",
      "metadata": {
        "id": "uuG0JKIl5nc_"
      },
      "source": [
        "**Nota rápida**: `predict_log_proba` do Scikit-Learn dá o logaritmo das probabilidades. Isso é mais prático porque as probabilidades podem tornar-se muito, muito pequenas."
      ]
    },
    {
      "cell_type": "markdown",
      "source": [
        "#### **Acurácia nula**\n",
        "\n",
        "- Precisão que poderia ser alcançada prevendo sempre a classe mais frequente.\n",
        "- Isso significa que um modelo \"burro\" que sempre prevê 0/1 estaria certo \"null_accuracy\" % das vezes."
      ],
      "metadata": {
        "id": "jlwO9Yo_qFSa"
      }
    },
    {
      "cell_type": "code",
      "execution_count": 10,
      "metadata": {
        "id": "_j9b1F9h5nc_",
        "outputId": "c2b5a702-7d87-4b55-8829-61a752855d8c",
        "colab": {
          "base_uri": "https://localhost:8080/"
        }
      },
      "outputs": [
        {
          "output_type": "execute_result",
          "data": {
            "text/plain": [
              "0.6509981851179674"
            ]
          },
          "metadata": {},
          "execution_count": 10
        }
      ],
      "source": [
        "from sklearn.base import BaseEstimator\n",
        "import numpy as np\n",
        "\n",
        "class BaseClassifier(BaseEstimator):\n",
        "    def fit(self, X, y=None):\n",
        "        pass\n",
        "    def predict(self, X):\n",
        "        return np.zeros((len(X), 1), dtype=bool)\n",
        "\n",
        "base_clf = BaseClassifier()\n",
        "cross_val_score(base_clf, X_train, y_train, cv=10, scoring=\"accuracy\").mean()\n"
      ]
    },
    {
      "cell_type": "markdown",
      "metadata": {
        "id": "nXkxaYu75ndB"
      },
      "source": [
        "#### **Classification Accuracy** ou **Acurácia**\n",
        "\n",
        "*Classification Accuracy* ou Acurácia é a razão entre o número de previsões corretas e o número total de amostras de entrada.\n",
        "\n",
        "$$Accuracy = \\frac{Number\\ of\\ correct\\ predictions}{Total\\ number\\ of\\ predictions\\ made} = \\frac{TP + TN}{TP + TN + FP + FN}$$\n",
        "\n",
        "**Quando usar esta métrica?**\n",
        "\n",
        "Quando há um número aproximado de amostras pertencentes a cada classe.\n",
        "\n",
        "**Quando não usar?**\n",
        "\n",
        "Quando apenas uma classe detém a maioria das amostras.\n",
        "\n",
        "**Exemplo:** considere que há 98% de amostras da classe A e 2% das amostras da classe B em nosso conjunto de treinamento. Então nosso modelo pode facilmente obter 98% de precisão de treinamento simplesmente prevendo cada amostra de treinamento pertencente à classe A.\n",
        "\n",
        "Quando o mesmo modelo é testado em um conjunto de teste com 60% de amostras de classe A e 40% de amostras de classe B, a precisão do teste cairia para 60%. A precisão da classificação pode nos dar a falsa sensação de alcançar alta precisão."
      ]
    },
    {
      "cell_type": "code",
      "execution_count": null,
      "metadata": {
        "id": "IjQxjCAI5ndB"
      },
      "outputs": [],
      "source": [
        "# calculate accuracy\n",
        "\n",
        "acc_logreg = cross_val_score(clf_logreg, X_train, y_train, cv = cv, scoring = 'accuracy').mean()\n",
        "acc_SGD = cross_val_score(clf_SGD, X_train, y_train, cv = cv, scoring = 'accuracy').mean()\n",
        "acc_rfc = cross_val_score(clf_rfc, X_train, y_train, cv = cv, scoring = 'accuracy').mean()\n",
        "\n",
        "acc_logreg, acc_SGD, acc_rfc"
      ]
    },
    {
      "cell_type": "markdown",
      "metadata": {
        "id": "8Y1FJKzQ5ndC"
      },
      "source": [
        "#### **Logarithmic Loss / Log Loss / Logistic Loss / Cross-Entropy Loss** (perda logarítmica)\n",
        "\n",
        "- Ao trabalhar com Log Loss, o classificador deve atribuir probabilidade a cada classe para todas as amostras.\n",
        "- Log loss mede a INCERTEZA das probabilidades do modelo comparando-as com os rótulos verdadeiros e penalizando as classificações falsas.\n",
        "- A perda de log é definida apenas para dois ou mais rótulos.\n",
        "- Log Loss diminui gradualmente à medida que a probabilidade prevista melhora, portanto Log Loss mais próximo de 0 indica maior precisão, Log Loss longe de 0 indica menor precisão.\n",
        "- Log Loss existe na faixa (0, ∞].\n",
        "\n",
        "Suponha que existam N amostras pertencentes a M classes, então o Log Loss é calculado como abaixo:\n",
        "\n",
        "$$ Log\\ Loss = \\frac{-1}{N} \\sum_{i=1}^{N} \\sum_{i=1}^{M}  y_{ij} * \\log(\\hat{y_{ij}})$$\n",
        "\n",
        "Onde,\n",
        "\n",
        "- $y_{ij}$, indica se a amostra i pertence à classe j ou não\n",
        "\n",
        "- $p_{ij}$, indica a probabilidade da amostra i pertencer à classe j\n",
        "\n",
        "\n",
        "O sinal negativo nega a saída $\\log(\\hat{y_{ij}})$ que é sempre negativa. $\\hat{y_{ij}}$ gera uma probabilidade (0 - 1), $\\log(x)$ é negativo se 0 < x < 1.\n",
        "\n",
        "<b>Exemplo </b>: deixe que os rótulos de treinamento sejam 0 e 1, mas nossas previsões de treinamento sejam 0,4, 0,6, 0,89 etc. Para calcular uma medida do erro do nosso modelo, podemos classificar todas as observações com valores > 0,5 em 1 .Mas, ao fazê-lo, corremos um alto risco de aumentar a classificação incorreta. Isso ocorre porque pode acontecer que muitos valores com probabilidades 0,4, 0,45, 0,49 possam ter um valor verdadeiro de 1.\n",
        "\n",
        "É aqui que o logLoss entra em cena.\n",
        "\n",
        "Agora vamos seguir de perto a fórmula de LogLoss. Pode haver 4 casos principais para os valores de $y_{ij}$ e $p_{ij}$\n",
        "\n",
        "- Caso 1: $y_{ij}$=1, $p_{ij}$ = Alto\n",
        "\n",
        "- Caso 2: $y_{ij}$=1, $p_{ij}$ = Baixo\n",
        "\n",
        "- Caso 3: $y_{ij}$=0, $p_{ij}$ = Baixo\n",
        "\n",
        "- Caso 4: $y_{ij}$=0, $p_{ij}$ = Alto\n",
        "\n",
        "**Como o LogLoss mede a incerteza?**\n",
        "\n",
        "Se tivermos mais Caso 1 e Caso 3, então a soma (e média) dentro da fórmula de logloss seria maior e seria substancialmente maior em comparação com o que teria sido se o Caso 2 e o Caso 4 fossem adicionados. Agora esse valor é o maior possível do Caso 1 e do Caso 3, o que indica uma boa previsão. Se o multiplicarmos por (-1) , tornaremos o valor o menor possível. Isso agora significaria intuitivamente - Quanto menor o valor, melhor é o modelo, ou seja, menor o logloss, melhor é o modelo, ou seja, menor a incerteza, melhor é o modelo."
      ]
    },
    {
      "cell_type": "code",
      "execution_count": null,
      "metadata": {
        "id": "_I5ep0K35ndC"
      },
      "outputs": [],
      "source": [
        "# calculate logloss\n",
        "\n",
        "logloss_logreg = cross_val_score(clf_logreg, X_train, y_train, cv = cv, scoring = 'neg_log_loss').mean()\n",
        "logloss_rfc = cross_val_score(clf_rfc, X_train, y_train, cv = cv, scoring = 'neg_log_loss').mean()\n",
        "\n",
        "# SGDClassifier's hinge loss doesn't support probability estimates.\n",
        "# We can set SGDClassifier as the base estimator in Scikit-learn's CalibratedClassifierCV, which will generate probability estimates.\n",
        "\n",
        "from sklearn.calibration import CalibratedClassifierCV\n",
        "\n",
        "new_clf_SGD = CalibratedClassifierCV(clf_SGD)\n",
        "new_clf_SGD.fit(X_train, y_train)\n",
        "logloss_SGD = cross_val_score(new_clf_SGD, X_train, y_train, cv = cv, scoring = 'neg_log_loss').mean()\n",
        "\n",
        "logloss_logreg, logloss_SGD, logloss_rfc"
      ]
    },
    {
      "cell_type": "markdown",
      "metadata": {
        "id": "aIbWQtlU5ndD"
      },
      "source": [
        "#### **ROC Curve** ou **Curva ROC**\n",
        "\n",
        "ROC pode ser dividido em sensibilidade e especificidade. Escolher o melhor modelo é uma espécie de equilíbrio entre prever 1's com precisão ou 0's com precisão. Em outras palavras, sensibilidade e especificidade.\n",
        "\n",
        "- **True Positive Rate (Sensibilidade/Recall):** A True Positive Rate é definida como TP/ (FN+TP). True Positive Rate corresponde à proporção de pontos de dados positivos que são corretamente considerados positivos, com relação a todos os pontos de dados positivos.\n",
        "\n",
        "- **Taxa de falsos positivos (Especificidade):** A taxa de falsos positivos é definida como FP / (FP+TN). Taxa de falsos positivos corresponde à proporção de pontos de dados negativos que são erroneamente considerados positivos, em relação a todos os pontos de dados negativos.\n",
        "\n",
        "Taxa de verdadeiro positivo e taxa de falso positivo têm valores no intervalo [0, 1]. Ambos TPR e FPR são calculados em valores de limiar como (0,00, 0,02, 0,04, …., 1,00) e um gráfico é desenhado."
      ]
    },
    {
      "cell_type": "code",
      "execution_count": 11,
      "metadata": {
        "id": "y9KruBtV5ndD",
        "outputId": "24531489-98c3-4adb-f8c6-264fc084a238",
        "colab": {
          "base_uri": "https://localhost:8080/",
          "height": 473
        }
      },
      "outputs": [
        {
          "output_type": "display_data",
          "data": {
            "text/plain": [
              "<Figure size 640x480 with 1 Axes>"
            ],
            "image/png": "[encoded data removed]"
          },
          "metadata": {}
        }
      ],
      "source": [
        "# IMPORTANTE: primeiro argumento são valores verdadeiros, segundo argumento são probabilidades previstas\n",
        "\n",
        "# passamos y_test e y_pred_prob\n",
        "# não usamos y_pred_class, pois dará resultados incorretos sem gerar erro\n",
        "# roc_curve retorna 3 objetos taxa de falso positivo (fpr), taxa de verdadeiro positivo (tpr), limites\n",
        "\n",
        "fpr_logreg, tpr_logreg, thresholds_logreg = metrics.roc_curve(y_train, y_pred_prob_logreg_class1)\n",
        "fpr_rfc, tpr_rfc, thresholds_rfc = metrics.roc_curve(y_train, y_pred_prob_rfc_class1)\n",
        "fpr_SGD, tpr_SGD, thresholds_SGD = metrics.roc_curve(y_train, y_pred_prob_SGD)\n",
        "\n",
        "plt.plot(fpr_logreg, tpr_logreg, label=\"logreg\")\n",
        "plt.plot(fpr_rfc, tpr_rfc, label=\"rfc\")\n",
        "plt.plot(fpr_SGD, tpr_SGD, label=\"SGD\")\n",
        "plt.xlim([0.0, 1.0])\n",
        "plt.ylim([0.0, 1.0])\n",
        "plt.rcParams['font.size'] = 12\n",
        "plt.title('ROC curve')\n",
        "plt.xlabel('False Positive Rate (1 - Specificity)')\n",
        "plt.ylabel('True Positive Rate (Sensitivity)')\n",
        "plt.legend(loc=\"lower right\", fontsize=10)\n",
        "plt.grid(True)"
      ]
    },
    {
      "cell_type": "markdown",
      "metadata": {
        "id": "TCnsFtt25ndD"
      },
      "source": [
        "**Interpretando o gráfico ROC**\n",
        "\n",
        "Interpretar o gráfico ROC é muito diferente de um gráfico de linha regular. Porque, embora haja um eixo X e um eixo Y, não o lemos como: para um valor X de 0,25, o valor Y é 0,9.\n",
        "\n",
        "Em vez disso, o que temos aqui é uma linha que traça o corte de probabilidade de 1 no canto inferior esquerdo a 0 no canto superior direito.\n",
        "\n",
        "Essa é uma maneira de analisar como a sensibilidade e a especificidade se comportam para toda a faixa de pontos de corte de probabilidade, ou seja, de 0 a 1.\n",
        "\n",
        "Idealmente, se tivermos um modelo perfeito, todos os eventos terão uma pontuação de probabilidade de 1 e todos os não eventos terão uma pontuação de 0. Para tal modelo, a área sob o ROC será um perfeito 1.\n",
        "\n",
        "Assim, se traçarmos a curva a partir do canto inferior esquerdo, o valor de corte de probabilidade diminui de 1 para 0. Se tivermos um bom modelo, mais eventos reais devem ser previstos como eventos, resultando em alta sensibilidade e baixo FPR. Nesse caso, a curva subirá abruptamente cobrindo uma grande área antes de atingir o canto superior direito.\n",
        "\n",
        "Portanto, quanto maior a área sob a curva ROC, melhor é o modelo.\n",
        "\n",
        "A curva ROC é a única métrica que mede o desempenho do modelo para diferentes valores de pontos de corte de probabilidade de previsão.\n"
      ]
    },
    {
      "cell_type": "code",
      "execution_count": 12,
      "metadata": {
        "id": "ttX5gMxz5ndE"
      },
      "outputs": [],
      "source": [
        "# define uma função que aceita um limite(threshold) e imprime sensibilidade e especificidade\n",
        "def evaluate_threshold(tpr, fpr,clf_threshold, threshold):\n",
        "    print('Sensitivity:', tpr[clf_threshold > threshold][-1])\n",
        "    print('Specificity:', 1 - fpr[clf_threshold > threshold][-1])"
      ]
    },
    {
      "cell_type": "markdown",
      "source": [
        "### Avalidando diferentes modelos"
      ],
      "metadata": {
        "id": "RwmTIFPkfmTN"
      }
    },
    {
      "cell_type": "code",
      "execution_count": 13,
      "metadata": {
        "id": "2iMG662D5ndE",
        "outputId": "7f9f7038-2728-4930-de72-f536f8d9ae2e",
        "colab": {
          "base_uri": "https://localhost:8080/"
        }
      },
      "outputs": [
        {
          "output_type": "stream",
          "name": "stdout",
          "text": [
            "Sensitivity: 0.8955223880597015\n",
            "Specificity: 0.5653333333333334\n",
            "Sensitivity: 0.23383084577114427\n",
            "Specificity: 0.976\n"
          ]
        },
        {
          "output_type": "execute_result",
          "data": {
            "text/plain": [
              "(None, None)"
            ]
          },
          "metadata": {},
          "execution_count": 13
        }
      ],
      "source": [
        "# Logistic Regression - Regressão Logística\n",
        "evaluate_threshold(tpr_logreg, fpr_logreg, thresholds_logreg, 0.2), evaluate_threshold(tpr_logreg, fpr_logreg, thresholds_logreg, 0.8)"
      ]
    },
    {
      "cell_type": "code",
      "execution_count": 14,
      "metadata": {
        "id": "s8PiZb2E5ndF",
        "outputId": "27d8bb23-1418-433d-a008-f75e9b5be3f4",
        "colab": {
          "base_uri": "https://localhost:8080/"
        }
      },
      "outputs": [
        {
          "output_type": "stream",
          "name": "stdout",
          "text": [
            "Sensitivity: 0.900497512437811\n",
            "Specificity: 0.5333333333333333\n",
            "Sensitivity: 0.14427860696517414\n",
            "Specificity: 0.984\n"
          ]
        },
        {
          "output_type": "execute_result",
          "data": {
            "text/plain": [
              "(None, None)"
            ]
          },
          "metadata": {},
          "execution_count": 14
        }
      ],
      "source": [
        "# Random Forest Classifier - Árvores aleatórias\n",
        "evaluate_threshold(tpr_rfc, fpr_rfc, thresholds_rfc, 0.2), evaluate_threshold(tpr_rfc, fpr_rfc, thresholds_rfc, 0.8)"
      ]
    },
    {
      "cell_type": "code",
      "execution_count": 15,
      "metadata": {
        "id": "svneaMhJ5ndF",
        "outputId": "df675cc7-d833-47d1-bdb6-1944073be77d",
        "colab": {
          "base_uri": "https://localhost:8080/"
        }
      },
      "outputs": [
        {
          "output_type": "stream",
          "name": "stdout",
          "text": [
            "Sensitivity: 0.43781094527363185\n",
            "Specificity: 0.6346666666666667\n",
            "Sensitivity: 0.43781094527363185\n",
            "Specificity: 0.6346666666666667\n"
          ]
        },
        {
          "output_type": "execute_result",
          "data": {
            "text/plain": [
              "(None, None)"
            ]
          },
          "metadata": {},
          "execution_count": 15
        }
      ],
      "source": [
        "# SGD - Stochastic gradient descent\n",
        "evaluate_threshold(tpr_SGD, fpr_SGD, thresholds_SGD, 0.2), evaluate_threshold(tpr_SGD, fpr_SGD, thresholds_SGD, 0.8)"
      ]
    },
    {
      "cell_type": "markdown",
      "metadata": {
        "id": "D8Rwga9p5ndF"
      },
      "source": [
        "#### **AUC**\n",
        "- A interpretação probabilística da pontuação ROC-AUC é que se escolhermos aleatoriamente um caso positivo e um caso negativo, a probabilidade de que o caso positivo supere o caso negativo de acordo com o classificador é dada pela AUC. Aqui, a classificação é determinada de acordo com a ordem dos valores previstos.\n",
        "- A pontuação ROC-AUC é independente do limite estabelecido para classificação, pois considera apenas a classificação de cada previsão e não seu valor absoluto. O mesmo não é verdade para a pontuação F1, que precisa de um valor limite em caso de saída de probabilidades\n",
        "- AUC é a porcentagem do gráfico ROC que está abaixo da curva.\n",
        "- A AUC representa a capacidade de um modelo de discriminar entre classes positivas e negativas. Uma área de 1,0 representa um modelo que fez todas as previsões perfeitamente. Uma área de 0,5 representa um modelo tão bom quanto aleatório.\n",
        "- AUC é útil mesmo quando há alto desequilíbrio de classe (ao contrário da precisão da classificação)\n",
        "- Caso de fraude\n",
        "     - Precisão nula quase 99%\n",
        "     - AUC é útil aqui\n",
        "\n",
        "General AUC predictions (predições da curva AUC):\n",
        "- .90-1 = Excellent\n",
        "- .80-.90 = Good\n",
        "- .70-.80 = Fair\n",
        "- .60-.70 = Poor\n",
        "- .50-.60 = Fail\n",
        "\n",
        "AUC ROC considera as probabilidades previstas para determinar o desempenho do modelo. Mas, leva em consideração apenas a ordem das probabilidades e, portanto, não leva em consideração a capacidade do modelo de prever maior probabilidade para amostras com maior probabilidade de serem positivas (Log Loss).\n",
        "\n",
        "Enquanto a AUC é calculada com relação à classificação binária com um limite de decisão variável, a perda de log na verdade leva em consideração a “certeza” da classificação."
      ]
    },
    {
      "cell_type": "code",
      "execution_count": 16,
      "metadata": {
        "id": "jNA9mMVL5ndG",
        "outputId": "66fd90e7-abe6-4094-cf8e-f2c0e8e9becd",
        "colab": {
          "base_uri": "https://localhost:8080/"
        }
      },
      "outputs": [
        {
          "output_type": "execute_result",
          "data": {
            "text/plain": [
              "(0.8310782022624128, 0.5346758788864052, 0.8378196335433177)"
            ]
          },
          "metadata": {},
          "execution_count": 16
        }
      ],
      "source": [
        "roc_auc_logreg = cross_val_score(clf_logreg, X_train, y_train, cv = cv, scoring = 'roc_auc').mean()\n",
        "roc_auc_SGD = cross_val_score(clf_SGD, X_train, y_train, cv = cv, scoring = 'roc_auc').mean()\n",
        "roc_auc_rfc = cross_val_score(clf_rfc, X_train, y_train, cv = cv, scoring = 'roc_auc').mean()\n",
        "\n",
        "roc_auc_logreg, roc_auc_SGD, roc_auc_rfc"
      ]
    },
    {
      "cell_type": "markdown",
      "metadata": {
        "id": "Yj_YmhWj5ndH"
      },
      "source": [
        "####  **Confusion Matrix** ou **Matriz de Confusão**\n",
        "\n",
        "Uma matriz de confusão é uma matriz N X N, onde N é o número de classes que estão sendo previstas. A Matriz de Confusão nos dá uma matriz como saída e descreve o desempenho completo do modelo.\n",
        "\n",
        "As previsões corretas caem na linha diagonal da matriz.\n",
        "\n",
        "4 termos importantes na Matriz de Confusão:\n",
        "- Verdadeiros Positivos: Os casos em que previmos SIM e a saída real também foi SIM.\n",
        "- Verdadeiros Negativos: Os casos em que previmos NÃO e a saída real foi NÃO.\n",
        "- Falsos Positivos: Os casos em que previmos SIM e a saída real foi NÃO.\n",
        "- Falsos Negativos: Os casos em que previmos NÃO e a saída real foi SIM.\n",
        "\n",
        "A matriz Confusion em si não é uma medida de desempenho como tal, mas quase todas as métricas de desempenho são baseadas na Matriz Confusion e nos números dentro dela."
      ]
    },
    {
      "cell_type": "markdown",
      "source": [
        "### Avaliando os diferentes modelos"
      ],
      "metadata": {
        "id": "8BDyQZHDgHsY"
      }
    },
    {
      "cell_type": "code",
      "execution_count": 17,
      "metadata": {
        "id": "wA9t8Xac5ndH",
        "outputId": "03bb040f-2195-4d67-f6c1-92b557deb914",
        "colab": {
          "base_uri": "https://localhost:8080/"
        }
      },
      "outputs": [
        {
          "output_type": "stream",
          "name": "stdout",
          "text": [
            "[[331  44]\n",
            " [ 82 119]]\n"
          ]
        }
      ],
      "source": [
        "logreg_matrix = metrics.confusion_matrix(y_train, y_pred_class_logreg)\n",
        "print(logreg_matrix)"
      ]
    },
    {
      "cell_type": "code",
      "execution_count": 18,
      "metadata": {
        "id": "xF0OnpPo5ndI",
        "outputId": "ab2bb48f-96ea-4135-aaba-dd03146e1482",
        "colab": {
          "base_uri": "https://localhost:8080/"
        }
      },
      "outputs": [
        {
          "output_type": "stream",
          "name": "stdout",
          "text": [
            "[[267 108]\n",
            " [120  81]]\n"
          ]
        }
      ],
      "source": [
        "SGD_matrix = metrics.confusion_matrix(y_train, y_pred_class_SGD)\n",
        "print(SGD_matrix)"
      ]
    },
    {
      "cell_type": "code",
      "execution_count": 19,
      "metadata": {
        "id": "V_kAqG8k5ndI",
        "outputId": "f235dc9e-2612-4cd6-b2b1-07d453df8482",
        "colab": {
          "base_uri": "https://localhost:8080/"
        }
      },
      "outputs": [
        {
          "output_type": "stream",
          "name": "stdout",
          "text": [
            "[[325  50]\n",
            " [ 73 128]]\n"
          ]
        }
      ],
      "source": [
        "rfc_matrix = metrics.confusion_matrix(y_train, y_pred_class_rfc)\n",
        "print(rfc_matrix)"
      ]
    },
    {
      "cell_type": "markdown",
      "metadata": {
        "id": "qhhRMv605ndI"
      },
      "source": [
        "####  Classification Report\n",
        "\n",
        "A função `class_report()` exibe a precisão, recall, f1-score e suporte para cada classe.\n",
        "\n",
        "**Precision**\n",
        "\n",
        "É o número de Verdadeiros Positivos dividido pelo número de resultados positivos previstos pelo classificador.\n",
        "\n",
        "$$ Precision =  \\frac{True\\ Positives}{True\\ Positives + False\\ Positives} $$\n",
        "\n",
        "![Screen%20Shot%202019-10-17%20at%2009.10.10.png](attachment:Screen%20Shot%202019-10-17%20at%2009.10.10.png)\n",
        "\n",
        "**Recall/ Sensitivity**\n",
        "\n",
        "É o número de Verdadeiros Positivos dividido pelo número de todas as amostras relevantes (todas as amostras que deveriam ter sido identificadas como positivas).\n",
        "\n",
        "$$Recall =  \\frac{True\\ Positives}{True\\ Positives + False\\ Negatives}$$\n",
        "\n",
        "![Screen%20Shot%202019-10-17%20at%2009.10.38.png](attachment:Screen%20Shot%202019-10-17%20at%2009.10.38.png)\n",
        "\n",
        "- Para minimizar falsos negativos, gostaríamos que nosso Recall fosse o mais próximo de 100%\n",
        "- Para minimizar falsos positivos, queremos que nossa precisão seja o mais próximo de 100%\n",
        "\n",
        "#### <u> Specificity / TNR (True Negative Rate)</u>\n",
        "\n",
        "- Proporção de casos negativos reais corretamente identificados.\n",
        "- Especificidade é exatamente o oposto de Recall.\n",
        "\n",
        "$$Specificity =  \\frac{True\\ Negatives}{True\\ Negatives + False\\ Positives}$$\n",
        "\n",
        "![Screen%20Shot%202019-10-17%20at%2009.11.10.png](attachment:Screen%20Shot%202019-10-17%20at%2009.11.10.png)\n",
        "\n",
        "**F1 Score**\n",
        "\n",
        "- F1 Score é a média harmônica entre precisão e recall.\n",
        "\n",
        "- Diz quão preciso é o classificador (quantas instâncias ele classifica corretamente), bem como quão robusto ele é (não perde um número significativo de instâncias).\n",
        "- Quanto maior o F1 Score, melhor é o desempenho do nosso modelo.\n",
        "- Faixa [0, 1].\n",
        "\n",
        "$$F1 = 2 * \\frac{1}{\\frac{1}{precision} + \\frac{1}{recall}}$$\n",
        "\n",
        "**Why Harmonic Mean?**\n",
        "\n",
        "Ex: Temos um modelo de classificação binária com os seguintes resultados:\n",
        "\n",
        "Precisão: 0, Recall: 1\n",
        "\n",
        "Se tomarmos a média aritmética, obtemos 0,5. É claro que o resultado acima vem de um classificador burro que apenas ignora a entrada e apenas prevê uma das classes como saída. Agora, se tomarmos HM, obteremos 0, o que é preciso, pois esse modelo é inútil para todos os fins.\n",
        "\n",
        "A média harmônica é uma média quando x e y são iguais. Mas quando x e y são diferentes, então está mais próximo do número menor em comparação com o número maior. Se um número for muito pequeno entre precisão e recuperação, o F1 Score de levanta uma bandeira e está mais próximo do número menor do que do maior, dando ao modelo uma pontuação apropriada em vez de apenas uma média aritmética."
      ]
    },
    {
      "cell_type": "markdown",
      "source": [
        "### Analisando o Log Report"
      ],
      "metadata": {
        "id": "blVL-73XgQvz"
      }
    },
    {
      "cell_type": "code",
      "execution_count": 20,
      "metadata": {
        "id": "pQjI6GEH5ndJ",
        "outputId": "655601b3-6feb-4d8b-c1bd-5784c563fa4e",
        "colab": {
          "base_uri": "https://localhost:8080/"
        }
      },
      "outputs": [
        {
          "output_type": "stream",
          "name": "stdout",
          "text": [
            "report_logreg \n",
            "              precision    recall  f1-score   support\n",
            "\n",
            "           0       0.80      0.88      0.84       375\n",
            "           1       0.73      0.59      0.65       201\n",
            "\n",
            "    accuracy                           0.78       576\n",
            "   macro avg       0.77      0.74      0.75       576\n",
            "weighted avg       0.78      0.78      0.78       576\n",
            "\n",
            "report_SGD \n",
            "              precision    recall  f1-score   support\n",
            "\n",
            "           0       0.69      0.71      0.70       375\n",
            "           1       0.43      0.40      0.42       201\n",
            "\n",
            "    accuracy                           0.60       576\n",
            "   macro avg       0.56      0.56      0.56       576\n",
            "weighted avg       0.60      0.60      0.60       576\n",
            "\n",
            "report_rfc \n",
            "              precision    recall  f1-score   support\n",
            "\n",
            "           0       0.82      0.87      0.84       375\n",
            "           1       0.72      0.64      0.68       201\n",
            "\n",
            "    accuracy                           0.79       576\n",
            "   macro avg       0.77      0.75      0.76       576\n",
            "weighted avg       0.78      0.79      0.78       576\n",
            "\n"
          ]
        }
      ],
      "source": [
        "report_logreg = metrics.classification_report(y_train, y_pred_class_logreg)\n",
        "report_SGD = metrics.classification_report(y_train, y_pred_class_SGD)\n",
        "report_rfc = metrics.classification_report(y_train, y_pred_class_rfc)\n",
        "print(\"report_logreg \" +  \"\\n\" + report_logreg,\"report_SGD \"  +  \"\\n\" +  report_SGD,\"report_rfc \"  +  \"\\n\" +  report_rfc, sep = \"\\n\")"
      ]
    },
    {
      "cell_type": "markdown",
      "metadata": {
        "id": "KGQc86pv5ndJ"
      },
      "source": [
        "**Precision: Recall Tradeoff**\n",
        "\n",
        "Em alguns contextos nos preocupamos principalmente com a precisão e em outros contextos nos preocupamos com a recordação. Por exemplo, se treinarmos um classificador para detectar vídeos seguros para crianças, ew provavelmente preferiria um classificador que rejeitasse muitos vídeos bons (baixo recall), mas mantenha apenas os seguros (alta precisão). Por outro lado, suponha que treinamos um classificador para detectar ladrões de lojas em imagens de vigilância: provavelmente não há problema se nosso classificador tiver apenas 30% de precisão, desde que tenha 99% de recall (com certeza, os guardas de segurança receberão alguns alertas falsos, mas quase todos os ladrões serão pegos).\n",
        "\n",
        "Aumentar a Precisão reduz o Recall e vice-versa. Isso é chamado de <i> Precisão - Troca de Recall </i>.\n",
        "\n",
        "Para entender essa compensação, vamos ver como o SGDClassifier / LogisticRegression / RandomForestClassifier toma suas decisões de classificação. Para cada instância, eles computam uma pontuação com base em uma função de decisão /predict_proba e, se essa pontuação for maior que um limite, eles atribuem a instância à classe positiva, ou então a atribui à classe negativa."
      ]
    },
    {
      "cell_type": "markdown",
      "metadata": {
        "id": "Ub7tRClh5ndK"
      },
      "source": [
        "Scikit-Learn does not let us set the threshold directly, but it does give us access to the decision scores that it uses to make predictions. Instead of calling the classifier’s predict() method, we can call its decision_function() method, which returns a score for each instance, and then make predictions based on those scores using any threshold we want:"
      ]
    },
    {
      "cell_type": "code",
      "execution_count": 21,
      "metadata": {
        "id": "ZMn5lDQ75ndK",
        "outputId": "8d488d95-66bb-40ae-b9f4-14f2a26d4c99",
        "colab": {
          "base_uri": "https://localhost:8080/"
        }
      },
      "outputs": [
        {
          "output_type": "execute_result",
          "data": {
            "text/plain": [
              "1.8702086094240205"
            ]
          },
          "metadata": {},
          "execution_count": 21
        }
      ],
      "source": [
        "y_decision_function_scores = clf_logreg.decision_function(X_train)\n",
        "y_decision_function_scores[6]"
      ]
    },
    {
      "cell_type": "code",
      "execution_count": 22,
      "metadata": {
        "id": "LBO_k-TG5ndK",
        "outputId": "8b2d096e-8f44-43ac-a629-cc99e3b8d1c7",
        "colab": {
          "base_uri": "https://localhost:8080/"
        }
      },
      "outputs": [
        {
          "output_type": "execute_result",
          "data": {
            "text/plain": [
              "True"
            ]
          },
          "metadata": {},
          "execution_count": 22
        }
      ],
      "source": [
        "threshold = 0\n",
        "y_decision_function_pred = (y_decision_function_scores[6] > threshold)\n",
        "y_decision_function_pred"
      ]
    },
    {
      "cell_type": "markdown",
      "metadata": {
        "id": "QC26DP995ndK"
      },
      "source": [
        "O classificador usa um limite(threshold) igual a 0, portanto, o código anterior retorna o mesmo resultado que o método predict() (ou seja, True). Vamos aumentar o limite para 2"
      ]
    },
    {
      "cell_type": "code",
      "execution_count": 23,
      "metadata": {
        "id": "XmEqH5H95ndL",
        "outputId": "c595928e-cfc1-4820-a356-0dccb93fe3bb",
        "colab": {
          "base_uri": "https://localhost:8080/"
        }
      },
      "outputs": [
        {
          "output_type": "execute_result",
          "data": {
            "text/plain": [
              "False"
            ]
          },
          "metadata": {},
          "execution_count": 23
        }
      ],
      "source": [
        "threshold = 2\n",
        "y_decision_function_pred = (y_decision_function_scores[6] > threshold)\n",
        "y_decision_function_pred"
      ]
    },
    {
      "cell_type": "markdown",
      "metadata": {
        "id": "YlJN0sz-5ndL"
      },
      "source": [
        "Isso confirma que aumentar o limite (thresold) diminui o recall.\n",
        "\n",
        "A instância na verdade representa um 1(True) e o classificador o detecta quando o limite é 0, mas o perde quando o limite é aumentado para 2.\n",
        "\n",
        "Para decidir qual limite usar, primeiro precisamos obter as pontuações de todas as instâncias no conjunto de treinamento usando a função cross_val_predict() novamente, mas desta vez especificando que você deseja que ela retorne pontuações/probabilidades de decisão em vez de classe:"
      ]
    },
    {
      "cell_type": "code",
      "execution_count": 24,
      "metadata": {
        "id": "f0zMwKhQ5ndL",
        "outputId": "b9facfb6-3d10-4027-840c-a70312027e65",
        "colab": {
          "base_uri": "https://localhost:8080/",
          "height": 464
        }
      },
      "outputs": [
        {
          "output_type": "display_data",
          "data": {
            "text/plain": [
              "<Figure size 640x480 with 1 Axes>"
            ],
            "image/png": "[encoded data removed]"
          },
          "metadata": {}
        }
      ],
      "source": [
        "from sklearn.metrics import precision_recall_curve\n",
        "\n",
        "precisions, recalls, thresholds = precision_recall_curve(y_train, y_pred_prob_logreg_class1)\n",
        "\n",
        "def plot_precision_recall_vs_threshold(precisions, recalls, thresholds):\n",
        "    plt.plot(thresholds, precisions[:-1], \"b--\", label=\"Precision\")\n",
        "    plt.plot(thresholds, recalls[:-1], \"g-\", label=\"Recall\")\n",
        "    plt.xlabel(\"Threshold\")\n",
        "    plt.legend(loc=\"upper left\")\n",
        "    plt.ylim([0, 1])\n",
        "\n",
        "plot_precision_recall_vs_threshold(precisions, recalls, thresholds)\n",
        "plt.show()"
      ]
    },
    {
      "cell_type": "markdown",
      "metadata": {
        "id": "02cDImzA5ndM"
      },
      "source": [
        "Agora podemos simplesmente selecionar o valor limite que nos dá a melhor compensação de precisão/recall para nossa tarefa. vamos supor que você decida buscar 80% de recall.\n",
        "\n",
        "Olhamos o primeiro gráfico ou \"plot\" (aumentando um pouco) e descobrimos que precisamos usar um limite de cerca de 0,32.\n",
        "\n",
        "Para fazer previsões (no conjunto de treinamento por enquanto), em vez de chamar o método predict() do classificador, você pode simplesmente executar este código:"
      ]
    },
    {
      "cell_type": "code",
      "execution_count": 25,
      "metadata": {
        "id": "QaG-PQgN5ndM",
        "outputId": "429ad2b6-b6aa-434f-bada-7767110394b4",
        "colab": {
          "base_uri": "https://localhost:8080/"
        }
      },
      "outputs": [
        {
          "output_type": "execute_result",
          "data": {
            "text/plain": [
              "(0.6178861788617886, 0.7562189054726368)"
            ]
          },
          "metadata": {},
          "execution_count": 25
        }
      ],
      "source": [
        "from sklearn.metrics import precision_score, recall_score\n",
        "\n",
        "y_pred_90 = (y_pred_prob_logreg_class1 > 0.32)\n",
        "\n",
        "precisionScore = precision_score(y_train, y_pred_90)\n",
        "recallScore = recall_score(y_train, y_pred_90)\n",
        "precisionScore, recallScore"
      ]
    },
    {
      "cell_type": "markdown",
      "metadata": {
        "id": "P_aBqdJm5ndM"
      },
      "source": [
        "#### **Conclusão**\n",
        "\n",
        "##### **Comparação de Log-loss com ROC & F1**\n",
        "\n",
        "**Caso 1: Conjunto de dados balanceado**\n",
        "\n",
        "| S.No. | 1 | 2 | 3 | 4 | 5 | 6 | 7 | 8 | 9 | 10 | 11 | 12 | 13 | 14 | 15 | 16 |\n",
        "| --- | --- | --- | --- | --- | --- | --- | --- | --- | --- | --- | --- | --- | --- | --- | --- | --- |\n",
        "| Actual (Balanced) | 0 | 0 | 0 | 0 | 0 | 0 | 0 | 0 | 1 | 1 | 1 | 1 | 1 | 1 | 1 | 1 |\n",
        "| Predicted (Model 1) | 0.1 | 0.1 | 0.1 | 0.1 | 0.1 | 0.1 | 0.6 | 0.6 | 0.5 | 0.5 | 0.9 | 0.9 | 0.9 | 0.9 | 0.9 | 0.9 |\n",
        "| Predicted (Model 1) | 0.6 | 0.6 | 0.6 | 0.6 | 0.6 | 0.6 | 0.6 | 0.6 | 0.7 | 0.7 | 0.7 | 0.7 | 0.8 | 0.8 | 0.8 | 0.8 |\n",
        "\n",
        "Considere o caso 1 (dados balanceados), parece que o modelo 1 está fazendo um trabalho melhor na previsão das probabilidades absolutas, enquanto o modelo 2 está funcionando melhor na classificação das observações de acordo com seus rótulos verdadeiros. Vamos verificar com a pontuação real:\n",
        "\n",
        "| F1 (threshold = 0.5) | F1 (threshold which maximize score) | ROC - AUC | LogLoss |\n",
        "| --- | --- | --- | --- |\n",
        "| Model 1 | 0.88 | .88 | 0.94 | 0.28\n",
        "| Model 2 | 0.67 | 1 | 1 | 0.6\n",
        "\n",
        "Se considerarmos o log loss, o Modelo 2 é o pior, dando um alto valor de perda de log porque as probabilidades absolutas têm grande diferença dos rótulos reais. Mas isso está em total desacordo com a pontuação F1 e AUC, segundo a qual o Modelo 2 tem 100% de precisão. Além disso, gostaríamos de observar que, com diferentes limites, a pontuação F1 está mudando e preferindo o modelo 1 ao modelo 2 para o limite padrão de 0,5.\n",
        "\n",
        "<b> Inferências extraídas do exemplo acima (conjunto de dados balanceado) </b>:\n",
        "- Se nos importamos com a diferença probabilística absoluta, vamos com Log Loss\n",
        "- Se nos importamos apenas com a previsão da classe final e não queremos ajustar o limite, vá com a pontuação AUC.\n",
        "-A pontuação F1 é sensível ao limiar e gostaríamos de ajustá-la primeiro antes de comparar os modelos.\n",
        "\n",
        "##### **Caso 2: Conjunto de dados desbalanceado**\n",
        "\n",
        "**A) Desbalanceado - Poucos Positivos**\n",
        "\n",
        "| S.No. | 1 | 2 | 3 | 4 | 5 | 6 | 7 | 8 | 9 | 10 | 11 | 12 | 13 | 14 | 15 | 16 |\n",
        "| --- | --- | --- | --- | --- | --- | --- | --- | --- | --- | --- | --- | --- | --- | --- | --- | --- |\n",
        "| Actual (Balanced) | 0 | 0 | 0 | 0 | 0 | 0 | 0 | 0 | 0 | 0 | 0 | 0 | 0 | 1 | 1 | 1 |\n",
        "| Predicted (Model 1) | 0.1 | 0.1 | 0.1 | 0.1 | 0.1 | 0.1 | 0.1 | 0.1 | 0.1 | 0.1 | 0.1 | 0.1 | 0.1 | 0.1 | 0.9 | 0.9 |\n",
        "| Predicted (Model 1) | 0.1 | 0.1 | 0.1 | 0.1 | 0.1 | 0.1 | 0.1 | 0.1 | 0.1 | 0.1 | 0.1 | 0.1 | 0.9 | 0.9 | 0.9 | 0.9 |\n",
        "\n",
        "| | F1 (threshold = 0.5) | ROC - AUC | LogLoss |\n",
        "| --- | --- | --- | --- |\n",
        "| Model 1 | 0.8 | .83 | .24\n",
        "| Model 2 | 0.86 | .96 | .24\n",
        "\n",
        "A única diferença no modelo1 e no modelo2 é sua previsão para a observação 13 e 14. O modelo 1 está fazendo um trabalho melhor na classificação da observação 13 (rótulo 0), enquanto o modelo 2 está se saindo melhor na classificação da observação 14 (rótulo 1). O objetivo é ver qual modelo realmente captura melhor a diferença na classificação da classe desequilibrada (classe com poucas observações, aqui está o rótulo 1). Em problemas como detecção de fraude/detecção de spam, onde os rótulos positivos são poucos, gostaríamos que nosso modelo predissesse classes positivas corretamente e, portanto, às vezes preferimos aqueles modelos que são capazes de classificar esses rótulos positivos.\n",
        "\n",
        "Claramente, a perda de log está falhando neste caso porque, de acordo com a perda de log, ambos os modelos estão funcionando igualmente. Isso ocorre porque a função log-loss é simétrica e não diferencia entre classes.\n",
        "\n",
        "Tanto a pontuação F1 quanto a pontuação ROC-AUC estão se saindo melhor ao preferir o modelo 2 ao modelo 1. Portanto, podemos usar esses dois métodos para desequilíbrio de classe.\n",
        "\n",
        "**B) Desbalanceado - Poucos Negativos**\n",
        "\n",
        "| S.No. | 1 | 2 | 3 | 4 | 5 | 6 | 7 | 8 | 9 | 10 | 11 | 12 | 13 | 14 | 15 | 16 |\n",
        "|---|---|---|---|---|---|---|---|---|---|---|---|---|---|---|---|---|\n",
        "| Actual (Balanced) | 0 | 0 | 0 | 1 | 1 | 1 | 1 | 1 | 1 | 1 | 1 | 1 | 1 | 1 | 1 | 1 |\n",
        "| Predicted (Model 1) | 0.1 | 0.1 | 0.9 | 0.9 | 0.9 | 0.9 | 0.9 | 0.9 | 0.9 | 0.9 | 0.9 | 0.9 | 0.9 | 0.9 | 0.9 | 0.9 |\n",
        "| Predicted (Model 1) | 0.1 | 0.1 | 0.1 | 0.1 | 0.9 | 0.9 | 0.9 | 0.9 | 0.9 | 0.9 | 0.9 | 0.9 | 0.9 | 0.9 | 0.9 | 0.9 |\n",
        "\n",
        "|| F1 (threshold = 0.5) | ROC - AUC | LogLoss |\n",
        "| --- | --- | --- | --- |\n",
        "| Model 1 | 0.963 | .83 | .24\n",
        "| Model 2 | 0.96 | .96 | .24\n",
        "\n",
        "A pontuação ROC-AUC tratou o caso de poucos rótulos negativos da mesma forma que tratou o caso de poucos rótulos positivos. A pontuação F1 é praticamente a mesma para o Modelo 1 e o Modelo 2 porque os rótulos positivos são grandes em número e se preocupa apenas com a classificação incorreta dos rótulos positivos.\n",
        "\n",
        "##### **Inferências extraídas do exemplo acima (conjunto de dados desequilibrado)**\n",
        "\n",
        "- Se cuidarmos de uma classe que é menor em número independente do fato de ser positiva ou negativa, vá para a pontuação ROC-AUC.\n",
        "\n",
        "##### **Quando vamos preferir F1 sobre ROC-AUC?**\n",
        "\n",
        "Prefira a curva PR sempre que a classe positiva for rara ou quando nos preocuparmos mais com os falsos positivos do que com os falsos negativos.\n",
        "\n",
        "Para treinar classificadores binários, escolha a métrica apropriada para a tarefa, avalie os classificadores usando validação cruzada, selecione a compensação de precisão/recuperação que atenda às nossas necessidades e compare vários modelos usando curvas ROC e pontuações ROC AUC."
      ]
    },
    {
      "cell_type": "markdown",
      "metadata": {
        "id": "cw5HBGcU5ndN"
      },
      "source": [
        "### **Métricas de Regressão**\n",
        "\n",
        "Usaremos o dataset [housing.csv](https://drive.google.com/file/d/1jAhlBKt-dKz3kwt2Xav1WuWg58gKWxB-/view?usp=share_link) para esta prática."
      ]
    },
    {
      "cell_type": "code",
      "execution_count": 26,
      "metadata": {
        "id": "wjlf59Ry5ndN",
        "outputId": "bb095384-6cf9-45da-902c-fde11db6e165",
        "colab": {
          "base_uri": "https://localhost:8080/",
          "height": 206
        }
      },
      "outputs": [
        {
          "output_type": "execute_result",
          "data": {
            "text/plain": [
              "      CRIM    ZN  INDUS  CHAS    NOX     RM   AGE     DIS  RAD    TAX  \\\n",
              "0  0.00632  18.0   2.31     0  0.538  6.575  65.2  4.0900    1  296.0   \n",
              "1  0.02731   0.0   7.07     0  0.469  6.421  78.9  4.9671    2  242.0   \n",
              "2  0.02729   0.0   7.07     0  0.469  7.185  61.1  4.9671    2  242.0   \n",
              "3  0.03237   0.0   2.18     0  0.458  6.998  45.8  6.0622    3  222.0   \n",
              "4  0.06905   0.0   2.18     0  0.458  7.147  54.2  6.0622    3  222.0   \n",
              "\n",
              "   PTRATIO       B  LSTAT  MEDV  \n",
              "0     15.3  396.90   4.98  24.0  \n",
              "1     17.8  396.90   9.14  21.6  \n",
              "2     17.8  392.83   4.03  34.7  \n",
              "3     18.7  394.63   2.94  33.4  \n",
              "4     18.7  396.90   5.33  36.2  "
            ],
            "text/html": [
              "\n",
              "  <div id=\"df-68227e39-2b20-45f1-8ba4-0fd11e5a36ba\" class=\"colab-df-container\">\n",
              "    <div>\n",
              "<style scoped>\n",
              "    .dataframe tbody tr th:only-of-type {\n",
              "        vertical-align: middle;\n",
              "    }\n",
              "\n",
              "    .dataframe tbody tr th {\n",
              "        vertical-align: top;\n",
              "    }\n",
              "\n",
              "    .dataframe thead th {\n",
              "        text-align: right;\n",
              "    }\n",
              "</style>\n",
              "<table border=\"1\" class=\"dataframe\">\n",
              "  <thead>\n",
              "    <tr style=\"text-align: right;\">\n",
              "      <th></th>\n",
              "      <th>CRIM</th>\n",
              "      <th>ZN</th>\n",
              "      <th>INDUS</th>\n",
              "      <th>CHAS</th>\n",
              "      <th>NOX</th>\n",
              "      <th>RM</th>\n",
              "      <th>AGE</th>\n",
              "      <th>DIS</th>\n",
              "      <th>RAD</th>\n",
              "      <th>TAX</th>\n",
              "      <th>PTRATIO</th>\n",
              "      <th>B</th>\n",
              "      <th>LSTAT</th>\n",
              "      <th>MEDV</th>\n",
              "    </tr>\n",
              "  </thead>\n",
              "  <tbody>\n",
              "    <tr>\n",
              "      <th>0</th>\n",
              "      <td>0.00632</td>\n",
              "      <td>18.0</td>\n",
              "      <td>2.31</td>\n",
              "      <td>0</td>\n",
              "      <td>0.538</td>\n",
              "      <td>6.575</td>\n",
              "      <td>65.2</td>\n",
              "      <td>4.0900</td>\n",
              "      <td>1</td>\n",
              "      <td>296.0</td>\n",
              "      <td>15.3</td>\n",
              "      <td>396.90</td>\n",
              "      <td>4.98</td>\n",
              "      <td>24.0</td>\n",
              "    </tr>\n",
              "    <tr>\n",
              "      <th>1</th>\n",
              "      <td>0.02731</td>\n",
              "      <td>0.0</td>\n",
              "      <td>7.07</td>\n",
              "      <td>0</td>\n",
              "      <td>0.469</td>\n",
              "      <td>6.421</td>\n",
              "      <td>78.9</td>\n",
              "      <td>4.9671</td>\n",
              "      <td>2</td>\n",
              "      <td>242.0</td>\n",
              "      <td>17.8</td>\n",
              "      <td>396.90</td>\n",
              "      <td>9.14</td>\n",
              "      <td>21.6</td>\n",
              "    </tr>\n",
              "    <tr>\n",
              "      <th>2</th>\n",
              "      <td>0.02729</td>\n",
              "      <td>0.0</td>\n",
              "      <td>7.07</td>\n",
              "      <td>0</td>\n",
              "      <td>0.469</td>\n",
              "      <td>7.185</td>\n",
              "      <td>61.1</td>\n",
              "      <td>4.9671</td>\n",
              "      <td>2</td>\n",
              "      <td>242.0</td>\n",
              "      <td>17.8</td>\n",
              "      <td>392.83</td>\n",
              "      <td>4.03</td>\n",
              "      <td>34.7</td>\n",
              "    </tr>\n",
              "    <tr>\n",
              "      <th>3</th>\n",
              "      <td>0.03237</td>\n",
              "      <td>0.0</td>\n",
              "      <td>2.18</td>\n",
              "      <td>0</td>\n",
              "      <td>0.458</td>\n",
              "      <td>6.998</td>\n",
              "      <td>45.8</td>\n",
              "      <td>6.0622</td>\n",
              "      <td>3</td>\n",
              "      <td>222.0</td>\n",
              "      <td>18.7</td>\n",
              "      <td>394.63</td>\n",
              "      <td>2.94</td>\n",
              "      <td>33.4</td>\n",
              "    </tr>\n",
              "    <tr>\n",
              "      <th>4</th>\n",
              "      <td>0.06905</td>\n",
              "      <td>0.0</td>\n",
              "      <td>2.18</td>\n",
              "      <td>0</td>\n",
              "      <td>0.458</td>\n",
              "      <td>7.147</td>\n",
              "      <td>54.2</td>\n",
              "      <td>6.0622</td>\n",
              "      <td>3</td>\n",
              "      <td>222.0</td>\n",
              "      <td>18.7</td>\n",
              "      <td>396.90</td>\n",
              "      <td>5.33</td>\n",
              "      <td>36.2</td>\n",
              "    </tr>\n",
              "  </tbody>\n",
              "</table>\n",
              "</div>\n",
              "    <div class=\"colab-df-buttons\">\n",
              "\n",
              "  <div class=\"colab-df-container\">\n",
              "    <button class=\"colab-df-convert\" onclick=\"convertToInteractive('df-68227e39-2b20-45f1-8ba4-0fd11e5a36ba')\"\n",
              "            title=\"Convert this dataframe to an interactive table.\"\n",
              "            style=\"display:none;\">\n",
              "\n",
              "  <svg xmlns=\"http://www.w3.org/2000/svg\" height=\"24px\" viewBox=\"0 -960 960 960\">\n",
              "    <path d=\"M120-120v-720h720v720H120Zm60-500h600v-160H180v160Zm220 220h160v-160H400v160Zm0 220h160v-160H400v160ZM180-400h160v-160H180v160Zm440 0h160v-160H620v160ZM180-180h160v-160H180v160Zm440 0h160v-160H620v160Z\"/>\n",
              "  </svg>\n",
              "    </button>\n",
              "\n",
              "  <style>\n",
              "    .colab-df-container {\n",
              "      display:flex;\n",
              "      gap: 12px;\n",
              "    }\n",
              "\n",
              "    .colab-df-convert {\n",
              "      background-color: #E8F0FE;\n",
              "      border: none;\n",
              "      border-radius: 50%;\n",
              "      cursor: pointer;\n",
              "      display: none;\n",
              "      fill: #1967D2;\n",
              "      height: 32px;\n",
              "      padding: 0 0 0 0;\n",
              "      width: 32px;\n",
              "    }\n",
              "\n",
              "    .colab-df-convert:hover {\n",
              "      background-color: #E2EBFA;\n",
              "      box-shadow: 0px 1px 2px rgba(60, 64, 67, 0.3), 0px 1px 3px 1px rgba(60, 64, 67, 0.15);\n",
              "      fill: #174EA6;\n",
              "    }\n",
              "\n",
              "    .colab-df-buttons div {\n",
              "      margin-bottom: 4px;\n",
              "    }\n",
              "\n",
              "    [theme=dark] .colab-df-convert {\n",
              "      background-color: #3B4455;\n",
              "      fill: #D2E3FC;\n",
              "    }\n",
              "\n",
              "    [theme=dark] .colab-df-convert:hover {\n",
              "      background-color: #434B5C;\n",
              "      box-shadow: 0px 1px 3px 1px rgba(0, 0, 0, 0.15);\n",
              "      filter: drop-shadow(0px 1px 2px rgba(0, 0, 0, 0.3));\n",
              "      fill: #FFFFFF;\n",
              "    }\n",
              "  </style>\n",
              "\n",
              "    <script>\n",
              "      const buttonEl =\n",
              "        document.querySelector('#df-68227e39-2b20-45f1-8ba4-0fd11e5a36ba button.colab-df-convert');\n",
              "      buttonEl.style.display =\n",
              "        google.colab.kernel.accessAllowed ? 'block' : 'none';\n",
              "\n",
              "      async function convertToInteractive(key) {\n",
              "        const element = document.querySelector('#df-68227e39-2b20-45f1-8ba4-0fd11e5a36ba');\n",
              "        const dataTable =\n",
              "          await google.colab.kernel.invokeFunction('convertToInteractive',\n",
              "                                                    [key], {});\n",
              "        if (!dataTable) return;\n",
              "\n",
              "        const docLinkHtml = 'Like what you see? Visit the ' +\n",
              "          '<a target=\"_blank\" href=https://colab.research.google.com/notebooks/data_table.ipynb>data table notebook</a>'\n",
              "          + ' to learn more about interactive tables.';\n",
              "        element.innerHTML = '';\n",
              "        dataTable['output_type'] = 'display_data';\n",
              "        await google.colab.output.renderOutput(dataTable, element);\n",
              "        const docLink = document.createElement('div');\n",
              "        docLink.innerHTML = docLinkHtml;\n",
              "        element.appendChild(docLink);\n",
              "      }\n",
              "    </script>\n",
              "  </div>\n",
              "\n",
              "\n",
              "<div id=\"df-77eb501c-7972-405f-8665-dde516c3a8fe\">\n",
              "  <button class=\"colab-df-quickchart\" onclick=\"quickchart('df-77eb501c-7972-405f-8665-dde516c3a8fe')\"\n",
              "            title=\"Suggest charts\"\n",
              "            style=\"display:none;\">\n",
              "\n",
              "<svg xmlns=\"http://www.w3.org/2000/svg\" height=\"24px\"viewBox=\"0 0 24 24\"\n",
              "     width=\"24px\">\n",
              "    <g>\n",
              "        <path d=\"M19 3H5c-1.1 0-2 .9-2 2v14c0 1.1.9 2 2 2h14c1.1 0 2-.9 2-2V5c0-1.1-.9-2-2-2zM9 17H7v-7h2v7zm4 0h-2V7h2v10zm4 0h-2v-4h2v4z\"/>\n",
              "    </g>\n",
              "</svg>\n",
              "  </button>\n",
              "\n",
              "<style>\n",
              "  .colab-df-quickchart {\n",
              "      --bg-color: #E8F0FE;\n",
              "      --fill-color: #1967D2;\n",
              "      --hover-bg-color: #E2EBFA;\n",
              "      --hover-fill-color: #174EA6;\n",
              "      --disabled-fill-color: #AAA;\n",
              "      --disabled-bg-color: #DDD;\n",
              "  }\n",
              "\n",
              "  [theme=dark] .colab-df-quickchart {\n",
              "      --bg-color: #3B4455;\n",
              "      --fill-color: #D2E3FC;\n",
              "      --hover-bg-color: #434B5C;\n",
              "      --hover-fill-color: #FFFFFF;\n",
              "      --disabled-bg-color: #3B4455;\n",
              "      --disabled-fill-color: #666;\n",
              "  }\n",
              "\n",
              "  .colab-df-quickchart {\n",
              "    background-color: var(--bg-color);\n",
              "    border: none;\n",
              "    border-radius: 50%;\n",
              "    cursor: pointer;\n",
              "    display: none;\n",
              "    fill: var(--fill-color);\n",
              "    height: 32px;\n",
              "    padding: 0;\n",
              "    width: 32px;\n",
              "  }\n",
              "\n",
              "  .colab-df-quickchart:hover {\n",
              "    background-color: var(--hover-bg-color);\n",
              "    box-shadow: 0 1px 2px rgba(60, 64, 67, 0.3), 0 1px 3px 1px rgba(60, 64, 67, 0.15);\n",
              "    fill: var(--button-hover-fill-color);\n",
              "  }\n",
              "\n",
              "  .colab-df-quickchart-complete:disabled,\n",
              "  .colab-df-quickchart-complete:disabled:hover {\n",
              "    background-color: var(--disabled-bg-color);\n",
              "    fill: var(--disabled-fill-color);\n",
              "    box-shadow: none;\n",
              "  }\n",
              "\n",
              "  .colab-df-spinner {\n",
              "    border: 2px solid var(--fill-color);\n",
              "    border-color: transparent;\n",
              "    border-bottom-color: var(--fill-color);\n",
              "    animation:\n",
              "      spin 1s steps(1) infinite;\n",
              "  }\n",
              "\n",
              "  @keyframes spin {\n",
              "    0% {\n",
              "      border-color: transparent;\n",
              "      border-bottom-color: var(--fill-color);\n",
              "      border-left-color: var(--fill-color);\n",
              "    }\n",
              "    20% {\n",
              "      border-color: transparent;\n",
              "      border-left-color: var(--fill-color);\n",
              "      border-top-color: var(--fill-color);\n",
              "    }\n",
              "    30% {\n",
              "      border-color: transparent;\n",
              "      border-left-color: var(--fill-color);\n",
              "      border-top-color: var(--fill-color);\n",
              "      border-right-color: var(--fill-color);\n",
              "    }\n",
              "    40% {\n",
              "      border-color: transparent;\n",
              "      border-right-color: var(--fill-color);\n",
              "      border-top-color: var(--fill-color);\n",
              "    }\n",
              "    60% {\n",
              "      border-color: transparent;\n",
              "      border-right-color: var(--fill-color);\n",
              "    }\n",
              "    80% {\n",
              "      border-color: transparent;\n",
              "      border-right-color: var(--fill-color);\n",
              "      border-bottom-color: var(--fill-color);\n",
              "    }\n",
              "    90% {\n",
              "      border-color: transparent;\n",
              "      border-bottom-color: var(--fill-color);\n",
              "    }\n",
              "  }\n",
              "</style>\n",
              "\n",
              "  <script>\n",
              "    async function quickchart(key) {\n",
              "      const quickchartButtonEl =\n",
              "        document.querySelector('#' + key + ' button');\n",
              "      quickchartButtonEl.disabled = true;  // To prevent multiple clicks.\n",
              "      quickchartButtonEl.classList.add('colab-df-spinner');\n",
              "      try {\n",
              "        const charts = await google.colab.kernel.invokeFunction(\n",
              "            'suggestCharts', [key], {});\n",
              "      } catch (error) {\n",
              "        console.error('Error during call to suggestCharts:', error);\n",
              "      }\n",
              "      quickchartButtonEl.classList.remove('colab-df-spinner');\n",
              "      quickchartButtonEl.classList.add('colab-df-quickchart-complete');\n",
              "    }\n",
              "    (() => {\n",
              "      let quickchartButtonEl =\n",
              "        document.querySelector('#df-77eb501c-7972-405f-8665-dde516c3a8fe button');\n",
              "      quickchartButtonEl.style.display =\n",
              "        google.colab.kernel.accessAllowed ? 'block' : 'none';\n",
              "    })();\n",
              "  </script>\n",
              "</div>\n",
              "\n",
              "    </div>\n",
              "  </div>\n"
            ]
          },
          "metadata": {},
          "execution_count": 26
        }
      ],
      "source": [
        "import pandas as pd\n",
        "from sklearn.model_selection import train_test_split\n",
        "from sklearn.linear_model import LinearRegression\n",
        "from sklearn import metrics\n",
        "import matplotlib.pyplot as plt\n",
        "\n",
        "import warnings\n",
        "warnings.filterwarnings('ignore')\n",
        "\n",
        "housing_data = pd.read_csv('https://raw.githubusercontent.com/paulcesarbaruk/Images_dataset/main/housing.csv')\n",
        "housing_data.head()"
      ]
    },
    {
      "cell_type": "code",
      "source": [
        "X =  housing_data.drop([\"MEDV\"],axis = 1)\n",
        "y = housing_data[\"MEDV\"]\n",
        "\n",
        "X_train, X_test, y_train, y_test = train_test_split(X, y, random_state=0)\n",
        "\n",
        "model = LinearRegression()\n",
        "\n",
        "# fit model\n",
        "model.fit(X_train, y_train)\n",
        "\n",
        "# make class predictions for the testing set\n",
        "y_pred_class = model.predict(X_test)"
      ],
      "metadata": {
        "id": "l4UQY6uyHMjG"
      },
      "execution_count": 27,
      "outputs": []
    },
    {
      "cell_type": "markdown",
      "metadata": {
        "id": "wKo7etJT5ndN"
      },
      "source": [
        "#### **MAE - Mean Absolute Error** ou  **Erro médio absoluto**\n",
        "- Média da diferença entre os Valores Originais e os Valores Previstos.\n",
        "- Não dá nenhuma ideia da direção do erro, ou seja, se estamos prevendo os dados ou superestimando os dados.\n",
        "- Quanto menor o MAE, melhor é o modelo.\n",
        "- Robusto para outliers\n",
        "- Alcance (0, + infinito]\n",
        "\n",
        "$$ Mean\\ Absolute\\ Error = \\frac{1}{N} \\sum_{i=1}^{N} |y_{i} -  \\hat{y_{i}}|$$"
      ]
    },
    {
      "cell_type": "code",
      "execution_count": null,
      "metadata": {
        "id": "QgTc8LFe5ndN"
      },
      "outputs": [],
      "source": [
        "# calculate Mean Absolute Error\n",
        "\n",
        "print(metrics.mean_absolute_error(y_test, y_pred_class))"
      ]
    },
    {
      "cell_type": "markdown",
      "metadata": {
        "id": "mh2V1f7h5ndO"
      },
      "source": [
        "#### **MSE - Mean Squared Error** ou **Erro Médio Quadrático**\n",
        "\n",
        "- Tira a média do quadrado da diferença entre os valores originais e os valores previstos.\n",
        "- À medida que tomamos o quadrado do erro, o efeito de erros maiores (às vezes discrepantes) torna-se mais pronunciado do que o erro menor. O modelo será mais penalizado por fazer previsões que diferem muito do valor real correspondente.\n",
        "- Antes de aplicar o MSE, devemos eliminar todos os nulos/infinitos da entrada.\n",
        "- Não é robusto a outliers\n",
        "- Alcance (0, + infinito]\n",
        "\n",
        "$$ Mean\\ Squared\\ Error = \\frac{1}{N} \\sum_{i=1}^{N} (y_{i} -  \\hat{y_{i}})^2$$"
      ]
    },
    {
      "cell_type": "code",
      "execution_count": 28,
      "metadata": {
        "id": "L1clgOW95ndO",
        "colab": {
          "base_uri": "https://localhost:8080/"
        },
        "outputId": "5a52822d-777f-4465-9501-c5a462b4889c"
      },
      "outputs": [
        {
          "output_type": "stream",
          "name": "stdout",
          "text": [
            "29.782245092302375\n"
          ]
        }
      ],
      "source": [
        "# calculo do Mean Squared Error\n",
        "print(metrics.mean_squared_error(y_test, y_pred_class))"
      ]
    },
    {
      "cell_type": "markdown",
      "metadata": {
        "id": "Zdme7FIW5ndO"
      },
      "source": [
        "#### **MAE vs. MSE**\n",
        "- Sendo mais complexo e tendencioso para um desvio mais alto, o RMSE ainda é a métrica padrão de muitos modelos porque a função de perda definida em termos de RMSE é suavemente diferenciável, enquanto o MAE (Erro Absoluto Médio) requer programação linear complicada para calcular o gradiente.\n",
        "- Se queremos uma métrica apenas para comparar dois modelos do ponto de vista de interpretação, então o MAE pode ser uma escolha melhor.\n",
        "- As unidades de RMSE e MAE são iguais aos valores de y, o que não é verdade para R Square.\n",
        "- Minimizar o erro quadrado (𝐿2) sobre um conjunto de números resulta em encontrar sua média, e minimizar o erro absoluto (𝐿1) resulta em encontrar sua mediana."
      ]
    },
    {
      "cell_type": "markdown",
      "metadata": {
        "id": "RGZwZQ7h5ndO"
      },
      "source": [
        "#### **RMSE**\n",
        "\n",
        "- Como o MSE é quadrático, suas unidades não correspondem às da saída original. RMSE é a raiz quadrada de MSE.\n",
        "- Uma vez que o MSE e o RMSE ambos quadram o resíduo, eles são afetados da mesma forma por valores discrepantes.\n",
        "- O RMSE é análogo ao desvio padrão e é uma medida do tamanho dos resíduos espalhados.\n",
        "- - Geralmente, o RMSE será maior ou igual ao MAE.\n",
        "\n",
        "$$ Root\\ Mean\\ Squared\\ Error =\\sqrt{ \\frac{1}{N} \\sum_{i=1}^{N} (y_{i} -  \\hat{y_{i}})^2}$$"
      ]
    },
    {
      "cell_type": "code",
      "execution_count": null,
      "metadata": {
        "id": "pFCCMc4U5ndO"
      },
      "outputs": [],
      "source": [
        "# calculate Root Mean Squared Error\n",
        "\n",
        "from math import sqrt\n",
        "\n",
        "print(sqrt(metrics.mean_squared_error(y_test, y_pred_class)))"
      ]
    },
    {
      "cell_type": "markdown",
      "metadata": {
        "id": "GiGnd-eO5ndP"
      },
      "source": [
        "#### **RMSLE - Root Mean Squared Logarithmic Error**\n",
        "- Tomamos o log das previsões e valores reais.\n",
        "- Quais mudanças são a variância que estamos medindo.\n",
        "- O RMSLE geralmente é usado quando não queremos penalizar grandes diferenças nos valores previstos e reais quando os valores previstos e reais são números enormes.\n",
        "- Se os valores previstos e reais forem pequenos: RMSE e RMSLE são iguais.\n",
        "- Se o valor previsto ou real for grande: RMSE > RMSLE\n",
        "- Se os valores previstos e reais forem grandes: RMSE > RMSLE (RMSLE torna-se quase insignificante)\n",
        "\n",
        "$$ Root\\ Mean\\ Squared\\ Log\\ Error =\\sqrt{ \\frac{1}{N} \\sum_{i=1}^{N} (\\log (y_{i} + 1) -  (\\log \\hat{y_{i}} + 1))^2}$$"
      ]
    },
    {
      "cell_type": "code",
      "execution_count": null,
      "metadata": {
        "id": "o9KNfl9-5ndP"
      },
      "outputs": [],
      "source": [
        "# calculate Mean Squared Log Error\n",
        "\n",
        "print(metrics.mean_squared_log_error(y_test, y_pred_class))"
      ]
    },
    {
      "cell_type": "markdown",
      "metadata": {
        "id": "9Osbsyei5ndP"
      },
      "source": [
        "#### **R-squared**\n",
        "\n",
        "No caso de um problema de classificação, se o modelo tiver uma precisão de 0,8, podemos avaliar o quão bom nosso modelo é em relação a um modelo aleatório, que tem uma precisão de 0,5. Assim, o modelo aleatório pode ser tratado como um benchmark. Mas quando falamos em métricas de RMSE, não temos um benchmark para comparar.\n",
        "\n",
        "É aqui que podemos usar a métrica R-squared. A fórmula para R-squared é a seguinte:\n",
        "\n",
        "$$R^2 = 1 - \\frac{MSE(model)}{MSE(baseline)} = 1 - \\frac{\\sum_{i=1}^{N}(y_1 - \\hat{y_1})^2}{\\sum_{i=1}^{N}(\\bar{y_1} - \\hat{y_1})^2}$$\n",
        "\n",
        "MSE(model): Mean Squared Error of the predictions against the actual values\n",
        "\n",
        "MSE(baseline): Mean Squared Error of  mean prediction against the actual values\n",
        "\n",
        "In other words how good our regression model as compared to a very simple model that just predicts the mean value of target from the train set as predictions.\n",
        "- A model performing equal to baseline would give R-Squared as 0. Better the model, higher the r2 value.\n",
        "- Range[- infinity, 1)"
      ]
    },
    {
      "cell_type": "code",
      "execution_count": null,
      "metadata": {
        "id": "2VqTymwd5ndQ"
      },
      "outputs": [],
      "source": [
        "# calculate R2 score\n",
        "\n",
        "print(metrics.r2_score(y_test, y_pred_class))"
      ]
    },
    {
      "cell_type": "markdown",
      "metadata": {
        "id": "3BU3mF025ndQ"
      },
      "source": [
        "#### **Adjusted R-Squared**\n",
        "\n",
        "Ao adicionar novos recursos ao modelo, o valor R-Squared aumenta ou permanece o mesmo. O R-Squared não penaliza a adição de recursos que não agregam valor ao modelo. Portanto, uma versão melhorada sobre o R-Squared é o R-Squared ajustado. A fórmula para R-Quadrático ajustado é dada por:\n",
        "\n",
        "$$\\bar{R^2} = 1 - (1 - R^2)(\\frac{n - 1}{n - k + 1})$$\n",
        "\n",
        "- k: number of features - número de features\n",
        "- n: number of samples - número de exemplos\n",
        "\n",
        "Essa métrica leva em consideração o número de recursos. Quando adicionamos mais recursos, o termo no denominador n-(k +1) diminui, então toda a expressão aumenta."
      ]
    },
    {
      "cell_type": "code",
      "execution_count": 29,
      "metadata": {
        "id": "RpaAOH2Z5ndQ",
        "outputId": "fb23eee1-0889-480c-e1d9-54fdad65a929",
        "colab": {
          "base_uri": "https://localhost:8080/"
        }
      },
      "outputs": [
        {
          "output_type": "stream",
          "name": "stdout",
          "text": [
            "summary()\n",
            "                             OLS Regression Results                            \n",
            "==============================================================================\n",
            "Dep. Variable:                   MEDV   R-squared:                       0.770\n",
            "Model:                            OLS   Adj. R-squared:                  0.762\n",
            "Method:                 Least Squares   F-statistic:                     93.87\n",
            "Date:                Fri, 29 Dec 2023   Prob (F-statistic):          9.85e-108\n",
            "Time:                        17:13:20   Log-Likelihood:                -1102.0\n",
            "No. Observations:                 379   AIC:                             2232.\n",
            "Df Residuals:                     365   BIC:                             2287.\n",
            "Df Model:                          13                                         \n",
            "Covariance Type:            nonrobust                                         \n",
            "==============================================================================\n",
            "                 coef    std err          t      P>|t|      [0.025      0.975]\n",
            "------------------------------------------------------------------------------\n",
            "const         36.9333      5.682      6.500      0.000      25.759      48.107\n",
            "CRIM          -0.1177      0.037     -3.143      0.002      -0.191      -0.044\n",
            "ZN             0.0440      0.015      2.933      0.004       0.015       0.074\n",
            "INDUS         -0.0058      0.067     -0.086      0.931      -0.137       0.125\n",
            "CHAS           2.3934      0.962      2.488      0.013       0.502       4.285\n",
            "NOX          -15.5894      4.331     -3.600      0.000     -24.106      -7.073\n",
            "RM             3.7690      0.472      7.981      0.000       2.840       4.698\n",
            "AGE           -0.0070      0.015     -0.472      0.637      -0.036       0.022\n",
            "DIS           -1.4350      0.224     -6.401      0.000      -1.876      -0.994\n",
            "RAD            0.2401      0.073      3.301      0.001       0.097       0.383\n",
            "TAX           -0.0113      0.004     -2.779      0.006      -0.019      -0.003\n",
            "PTRATIO       -0.9855      0.145     -6.793      0.000      -1.271      -0.700\n",
            "B              0.0084      0.003      2.782      0.006       0.002       0.014\n",
            "LSTAT         -0.4991      0.058     -8.667      0.000      -0.612      -0.386\n",
            "==============================================================================\n",
            "Omnibus:                      141.715   Durbin-Watson:                   2.025\n",
            "Prob(Omnibus):                  0.000   Jarque-Bera (JB):              665.545\n",
            "Skew:                           1.549   Prob(JB):                    3.01e-145\n",
            "Kurtosis:                       8.705   Cond. No.                     1.53e+04\n",
            "==============================================================================\n",
            "\n",
            "Notes:\n",
            "[1] Standard Errors assume that the covariance matrix of the errors is correctly specified.\n",
            "[2] The condition number is large, 1.53e+04. This might indicate that there are\n",
            "strong multicollinearity or other numerical problems.\n"
          ]
        }
      ],
      "source": [
        "import statsmodels.api as sm\n",
        "\n",
        "X_train_2 = sm.add_constant(X_train)\n",
        "est = sm.OLS(y_train, X_train_2)\n",
        "est2 = est.fit()\n",
        "\n",
        "print(\"summary()\\n\",est2.summary())"
      ]
    },
    {
      "cell_type": "markdown",
      "source": [
        "---\n",
        "\n",
        "Notebook utilizado para fins educacionais da **Awari**.\n",
        "\n",
        "**© AWARI. Todos os direitos reservados.**"
      ],
      "metadata": {
        "id": "PEUwtERx9ALH"
      }
    }
  ],
  "metadata": {
    "kernelspec": {
      "display_name": "Python 3",
      "language": "python",
      "name": "python3"
    },
    "language_info": {
      "codemirror_mode": {
        "name": "ipython",
        "version": 3
      },
      "file_extension": ".py",
      "mimetype": "text/x-python",
      "name": "python",
      "nbconvert_exporter": "python",
      "pygments_lexer": "ipython3",
      "version": "3.6.6"
    },
    "colab": {
      "provenance": [],
      "collapsed_sections": [
        "nXkxaYu75ndB",
        "8Y1FJKzQ5ndC",
        "P_aBqdJm5ndM",
        "wKo7etJT5ndN",
        "Zdme7FIW5ndO",
        "RGZwZQ7h5ndO",
        "GiGnd-eO5ndP",
        "9Osbsyei5ndP"
      ],
      "include_colab_link": true
    }
  },
  "nbformat": 4,
  "nbformat_minor": 0
}